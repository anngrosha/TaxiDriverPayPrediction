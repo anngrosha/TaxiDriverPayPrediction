{
 "cells": [
  {
   "cell_type": "code",
   "execution_count": 21,
   "id": "233ace71-7907-46dc-9bdf-427f7176a6e9",
   "metadata": {},
   "outputs": [],
   "source": [
    "# Import necessary dependencies\n",
    "from pyspark.sql import SparkSession\n",
    "from pyspark.sql import functions as F\n",
    "from pyspark.ml.feature import StringIndexer, OneHotEncoder, VectorAssembler\n",
    "from pyspark.ml import Pipeline\n",
    "from pyspark.ml import Transformer\n",
    "from pyspark.ml.param.shared import HasInputCol, HasOutputCols\n",
    "from pyspark.ml.util import DefaultParamsReadable, DefaultParamsWritable\n",
    "from pyspark.sql import DataFrame\n",
    "from pyspark import keyword_only\n",
    "from pyspark.ml.regression import (\n",
    "    LinearRegression,\n",
    "    GBTRegressor,\n",
    "    LinearRegressionModel,\n",
    "    GBTRegressionModel,\n",
    ")\n",
    "from pyspark.ml.tuning import ParamGridBuilder, CrossValidator\n",
    "from pyspark.ml.evaluation import RegressionEvaluator\n",
    "from pyspark.ml.feature import StandardScaler\n",
    "import pyspark.pandas as ps\n",
    "import matplotlib.pyplot as plt\n",
    "import seaborn as sns\n",
    "import numpy as np\n",
    "import math\n",
    "import pandas as pd\n",
    "import os"
   ]
  },
  {
   "cell_type": "markdown",
   "id": "f724d5de-689d-426b-8238-df7eba58c5bb",
   "metadata": {},
   "source": [
    "### Connect to Hive & Read Hive Tables"
   ]
  },
  {
   "cell_type": "code",
   "execution_count": 22,
   "id": "4d970e05-57e4-4e8d-b0d5-c4f795d47707",
   "metadata": {},
   "outputs": [
    {
     "name": "stdout",
     "output_type": "stream",
     "text": [
      "Current working directory: /home/team31/project/bigdata-final-project/notebooks\n"
     ]
    }
   ],
   "source": [
    "print(\"Current working directory:\", os.getcwd())"
   ]
  },
  {
   "cell_type": "code",
   "execution_count": 23,
   "id": "6a70e754-9747-44d9-922b-21898216237f",
   "metadata": {},
   "outputs": [
    {
     "name": "stdout",
     "output_type": "stream",
     "text": [
      "++\n",
      "||\n",
      "++\n",
      "++\n",
      "\n",
      "+----------------+--------------------+-----------+\n",
      "|       namespace|           tableName|isTemporary|\n",
      "+----------------+--------------------+-----------+\n",
      "|team31_projectdb|model1_feature_im...|      false|\n",
      "|team31_projectdb|  model1_predictions|      false|\n",
      "|team31_projectdb|model2_feature_im...|      false|\n",
      "|team31_projectdb|  model2_predictions|      false|\n",
      "|team31_projectdb|          q1_results|      false|\n",
      "|team31_projectdb|          q2_results|      false|\n",
      "|team31_projectdb|          q3_results|      false|\n",
      "|team31_projectdb|          q4_results|      false|\n",
      "|team31_projectdb|          q5_results|      false|\n",
      "|team31_projectdb|          q6_results|      false|\n",
      "|team31_projectdb|          q7_results|      false|\n",
      "|team31_projectdb|          q8_results|      false|\n",
      "|team31_projectdb|          taxi_zones|      false|\n",
      "|team31_projectdb|               trips|      false|\n",
      "|team31_projectdb|          trips_part|      false|\n",
      "|team31_projectdb|             weather|      false|\n",
      "+----------------+--------------------+-----------+\n",
      "\n"
     ]
    }
   ],
   "source": [
    "# Add here your team number teamx\n",
    "team = 31\n",
    "\n",
    "# location of your Hive database in HDFS\n",
    "warehouse = \"project/hive/warehouse\"\n",
    "\n",
    "spark = SparkSession.builder\\\n",
    "        .appName(\"{} - spark ML\".format(team))\\\n",
    "        .master(\"yarn\")\\\n",
    "        .config(\"hive.metastore.uris\",\n",
    "                \"thrift://hadoop-02.uni.innopolis.ru:9883\")\\\n",
    "        .config(\"spark.sql.warehouse.dir\", warehouse)\\\n",
    "        .config(\"spark.sql.avro.compression.codec\", \"snappy\")\\\n",
    "        .enableHiveSupport()\\\n",
    "        .getOrCreate()\n",
    "\n",
    "# List all tables\n",
    "spark.sql(\"USE team31_projectdb\").show()\n",
    "spark.sql(\"SHOW TABLES\").show()"
   ]
  },
  {
   "cell_type": "code",
   "execution_count": 25,
   "id": "e705eba0-54be-4114-b8b9-61077c0b2c91",
   "metadata": {},
   "outputs": [
    {
     "name": "stdout",
     "output_type": "stream",
     "text": [
      "+----------+------------------+---+\n",
      "|driver_pay|   driver_pay_pred| id|\n",
      "+----------+------------------+---+\n",
      "|      9.91| 9.785531537862484|  0|\n",
      "|     32.81|30.339978788570058|  1|\n",
      "|     15.22|14.693795418815146|  2|\n",
      "|     15.22|14.693795418815146|  3|\n",
      "|      6.71| 4.937530417587425|  4|\n",
      "|     24.89|19.587252448191414|  5|\n",
      "|      7.67| 8.327461967814564|  6|\n",
      "|      6.58| 4.997501695598027|  7|\n",
      "|      6.97| 7.247045113907487|  8|\n",
      "|     10.22| 9.724604750504682|  9|\n",
      "+----------+------------------+---+\n",
      "\n"
     ]
    }
   ],
   "source": [
    "spark.read.format(\"avro\").table(\"team31_projectdb.model1_predictions\").limit(10).show()"
   ]
  },
  {
   "cell_type": "code",
   "execution_count": 4,
   "id": "ae031576-f11a-4531-9412-269b28b34498",
   "metadata": {},
   "outputs": [],
   "source": [
    "# Read all main Hive tables\n",
    "taxi_zones = spark.read.format(\"avro\").table('team31_projectdb.taxi_zones')\n",
    "trips = spark.read.format(\"avro\").table('team31_projectdb.trips')\n",
    "trips_part = spark.read.format(\"avro\").table('team31_projectdb.trips_part')\n",
    "weather = spark.read.format(\"avro\").table('team31_projectdb.weather')"
   ]
  },
  {
   "cell_type": "code",
   "execution_count": 5,
   "id": "30675c65-5b37-44ea-8079-8eea44d7417d",
   "metadata": {},
   "outputs": [
    {
     "name": "stdout",
     "output_type": "stream",
     "text": [
      "Taxi zones:\n",
      "root\n",
      " |-- location_id: integer (nullable = true)\n",
      " |-- borough: string (nullable = true)\n",
      " |-- zone: string (nullable = true)\n",
      " |-- service_zone: string (nullable = true)\n",
      "\n",
      "Trips:\n",
      "root\n",
      " |-- trip_id: long (nullable = true)\n",
      " |-- hvfhs_license_num: string (nullable = true)\n",
      " |-- dispatching_base_num: string (nullable = true)\n",
      " |-- originating_base_num: string (nullable = true)\n",
      " |-- request_datetime: long (nullable = true)\n",
      " |-- on_scene_datetime: long (nullable = true)\n",
      " |-- pickup_datetime: long (nullable = true)\n",
      " |-- dropoff_datetime: long (nullable = true)\n",
      " |-- pu_location_id: integer (nullable = true)\n",
      " |-- do_location_id: integer (nullable = true)\n",
      " |-- trip_miles: double (nullable = true)\n",
      " |-- trip_time: integer (nullable = true)\n",
      " |-- base_passenger_fare: double (nullable = true)\n",
      " |-- tolls: double (nullable = true)\n",
      " |-- bcf: double (nullable = true)\n",
      " |-- sales_tax: double (nullable = true)\n",
      " |-- congestion_surcharge: double (nullable = true)\n",
      " |-- airport_fee: double (nullable = true)\n",
      " |-- tips: double (nullable = true)\n",
      " |-- driver_pay: double (nullable = true)\n",
      " |-- shared_request_flag: string (nullable = true)\n",
      " |-- shared_match_flag: string (nullable = true)\n",
      " |-- wav_request_flag: string (nullable = true)\n",
      " |-- wav_match_flag: string (nullable = true)\n",
      " |-- request_date: long (nullable = true)\n",
      " |-- request_time: long (nullable = true)\n",
      "\n",
      "Trips partitioned:\n",
      "root\n",
      " |-- trip_id: long (nullable = true)\n",
      " |-- hvfhs_license_num: string (nullable = true)\n",
      " |-- originating_base_num: string (nullable = true)\n",
      " |-- request_datetime: long (nullable = true)\n",
      " |-- on_scene_datetime: long (nullable = true)\n",
      " |-- pickup_datetime: long (nullable = true)\n",
      " |-- dropoff_datetime: long (nullable = true)\n",
      " |-- pu_location_id: integer (nullable = true)\n",
      " |-- do_location_id: integer (nullable = true)\n",
      " |-- trip_miles: float (nullable = true)\n",
      " |-- trip_time: integer (nullable = true)\n",
      " |-- base_passenger_fare: float (nullable = true)\n",
      " |-- tolls: float (nullable = true)\n",
      " |-- bcf: float (nullable = true)\n",
      " |-- sales_tax: float (nullable = true)\n",
      " |-- congestion_surcharge: float (nullable = true)\n",
      " |-- airport_fee: float (nullable = true)\n",
      " |-- tips: float (nullable = true)\n",
      " |-- driver_pay: float (nullable = true)\n",
      " |-- shared_request_flag: string (nullable = true)\n",
      " |-- shared_match_flag: string (nullable = true)\n",
      " |-- wav_request_flag: string (nullable = true)\n",
      " |-- wav_match_flag: string (nullable = true)\n",
      " |-- request_date: long (nullable = true)\n",
      " |-- request_time: long (nullable = true)\n",
      " |-- dispatching_base_num: string (nullable = true)\n",
      "\n",
      "Weather:\n",
      "root\n",
      " |-- station_name: string (nullable = true)\n",
      " |-- station_address: string (nullable = true)\n",
      " |-- resolved_address: string (nullable = true)\n",
      " |-- date_id: long (nullable = true)\n",
      " |-- temperature: double (nullable = true)\n",
      " |-- feels_like: double (nullable = true)\n",
      " |-- dew_point: double (nullable = true)\n",
      " |-- humidity: double (nullable = true)\n",
      " |-- precipitation: double (nullable = true)\n",
      " |-- precipitation_prob: integer (nullable = true)\n",
      " |-- precipitation_type: string (nullable = true)\n",
      " |-- snow: double (nullable = true)\n",
      " |-- snow_depth: double (nullable = true)\n",
      " |-- wind_gust: double (nullable = true)\n",
      " |-- wind_speed: double (nullable = true)\n",
      " |-- wind_direction: double (nullable = true)\n",
      " |-- sea_level_pressure: double (nullable = true)\n",
      " |-- cloud_cover: double (nullable = true)\n",
      " |-- visibility: double (nullable = true)\n",
      " |-- uv_index: integer (nullable = true)\n",
      " |-- severe_risk: double (nullable = true)\n",
      "\n"
     ]
    }
   ],
   "source": [
    "# Take a look at the dataframes' schemas\n",
    "print(\"Taxi zones:\")\n",
    "taxi_zones.printSchema()\n",
    "\n",
    "print(\"Trips:\")\n",
    "trips.printSchema()\n",
    "\n",
    "print(\"Trips partitioned:\")\n",
    "trips_part.printSchema()\n",
    "\n",
    "print(\"Weather:\")\n",
    "weather.printSchema()"
   ]
  },
  {
   "cell_type": "markdown",
   "id": "0880777e-cef0-4714-86f8-04a774cae8b7",
   "metadata": {},
   "source": [
    "#### Take a look at all the first few rows of each dataframe"
   ]
  },
  {
   "cell_type": "code",
   "execution_count": 6,
   "id": "63d34fd7-8094-41f0-a73f-421f14feb98b",
   "metadata": {},
   "outputs": [
    {
     "name": "stdout",
     "output_type": "stream",
     "text": [
      "Taxi zones: 265\n",
      "Trips: 2450668\n",
      "Trips partitioned: 2450668\n",
      "Weather: 365\n"
     ]
    }
   ],
   "source": [
    "# Print shapes of all dataframes\n",
    "# Apparently, we will use \"trips_part\" instead of \"trips\"\n",
    "print(f\"Taxi zones: {taxi_zones.count()}\")\n",
    "print(f\"Trips: {trips.count()}\")\n",
    "print(f\"Trips partitioned: {trips_part.count()}\")\n",
    "print(f\"Weather: {weather.count()}\")"
   ]
  },
  {
   "cell_type": "code",
   "execution_count": 7,
   "id": "0274838c-aecd-4189-8e09-9d5850b24380",
   "metadata": {},
   "outputs": [
    {
     "name": "stdout",
     "output_type": "stream",
     "text": [
      "+-----------+-------------+--------------------+------------+\n",
      "|location_id|      borough|                zone|service_zone|\n",
      "+-----------+-------------+--------------------+------------+\n",
      "|          1|          EWR|      Newark Airport|         EWR|\n",
      "|          2|       Queens|         Jamaica Bay|   Boro Zone|\n",
      "|          3|        Bronx|Allerton/Pelham G...|   Boro Zone|\n",
      "|          4|    Manhattan|       Alphabet City| Yellow Zone|\n",
      "|          5|Staten Island|       Arden Heights|   Boro Zone|\n",
      "|          6|Staten Island|Arrochar/Fort Wad...|   Boro Zone|\n",
      "|          7|       Queens|             Astoria|   Boro Zone|\n",
      "|          8|       Queens|        Astoria Park|   Boro Zone|\n",
      "|          9|       Queens|          Auburndale|   Boro Zone|\n",
      "|         10|       Queens|        Baisley Park|   Boro Zone|\n",
      "+-----------+-------------+--------------------+------------+\n",
      "\n"
     ]
    }
   ],
   "source": [
    "spark.sql(\"\"\"\n",
    "    SELECT * FROM taxi_zones LIMIT 10;\n",
    "\"\"\").show()"
   ]
  },
  {
   "cell_type": "code",
   "execution_count": 8,
   "id": "33cc8fb9-d929-496e-88a7-ad5f38e3ef1d",
   "metadata": {},
   "outputs": [
    {
     "data": {
      "text/plain": [
       "DataFrame[location_id: int, borough: string, zone: string, service_zone: string]"
      ]
     },
     "execution_count": 8,
     "metadata": {},
     "output_type": "execute_result"
    }
   ],
   "source": [
    "taxi_zones.limit(10)"
   ]
  },
  {
   "cell_type": "code",
   "execution_count": 9,
   "id": "66a29886-cfb8-41e7-8c5f-9c07f21bba84",
   "metadata": {
    "tags": []
   },
   "outputs": [
    {
     "name": "stdout",
     "output_type": "stream",
     "text": [
      "-RECORD 0-----------------------------\n",
      " trip_id              | 1             \n",
      " hvfhs_license_num    | HV0003        \n",
      " dispatching_base_num | B02682        \n",
      " originating_base_num | B02682        \n",
      " request_datetime     | 1609450089000 \n",
      " on_scene_datetime    | 1609450302000 \n",
      " pickup_datetime      | 1609450424000 \n",
      " dropoff_datetime     | 1609451347000 \n",
      " pu_location_id       | 230           \n",
      " do_location_id       | 166           \n",
      " trip_miles           | 5.26          \n",
      " trip_time            | 923           \n",
      " base_passenger_fare  | 22.28         \n",
      " tolls                | 0.0           \n",
      " bcf                  | 0.67          \n",
      " sales_tax            | 1.98          \n",
      " congestion_surcharge | 2.75          \n",
      " airport_fee          | null          \n",
      " tips                 | 0.0           \n",
      " driver_pay           | 14.99         \n",
      " shared_request_flag  | N             \n",
      " shared_match_flag    | N             \n",
      " wav_request_flag     | N             \n",
      " wav_match_flag       | N             \n",
      " request_date         | 1609448400000 \n",
      " request_time         | -9111000      \n",
      "\n"
     ]
    }
   ],
   "source": [
    "# We won't use this table but let's take a look at it anyway\n",
    "spark.sql(\"\"\"\n",
    "    SELECT * FROM trips LIMIT 1;\n",
    "\"\"\").show(vertical=True, truncate=False)"
   ]
  },
  {
   "cell_type": "code",
   "execution_count": 10,
   "id": "5009a80b-1d1c-4216-a97c-7a14ea2b6825",
   "metadata": {},
   "outputs": [
    {
     "name": "stdout",
     "output_type": "stream",
     "text": [
      "-RECORD 0-----------------------------\n",
      " trip_id              | 2449218       \n",
      " hvfhs_license_num    | HV0003        \n",
      " originating_base_num | B02877        \n",
      " request_datetime     | 1610077693000 \n",
      " on_scene_datetime    | 1610077812000 \n",
      " pickup_datetime      | 1610077934000 \n",
      " dropoff_datetime     | 1610078383000 \n",
      " pu_location_id       | 168           \n",
      " do_location_id       | 168           \n",
      " trip_miles           | 1.48          \n",
      " trip_time            | 449           \n",
      " base_passenger_fare  | 8.39          \n",
      " tolls                | 0.0           \n",
      " bcf                  | 0.25          \n",
      " sales_tax            | 0.74          \n",
      " congestion_surcharge | 0.0           \n",
      " airport_fee          | null          \n",
      " tips                 | 0.0           \n",
      " driver_pay           | 5.42          \n",
      " shared_request_flag  | N             \n",
      " shared_match_flag    | N             \n",
      " wav_request_flag     | N             \n",
      " wav_match_flag       | N             \n",
      " request_date         | 1610053200000 \n",
      " request_time         | 13693000      \n",
      " dispatching_base_num | B02877        \n",
      "\n"
     ]
    }
   ],
   "source": [
    "spark.sql(\"\"\"\n",
    "    SELECT * FROM trips_part LIMIT 1;\n",
    "\"\"\").show(vertical=True, truncate=False)"
   ]
  },
  {
   "cell_type": "code",
   "execution_count": 11,
   "id": "5761799b-218d-4db5-97da-a7b2c1be2729",
   "metadata": {},
   "outputs": [
    {
     "name": "stdout",
     "output_type": "stream",
     "text": [
      "-RECORD 0-----------------------------------------\n",
      " station_name       | nyc                         \n",
      " station_address    | nyc                         \n",
      " resolved_address   | New York, NY, United States \n",
      " date_id            | 1609448400000               \n",
      " temperature        | 2.5                         \n",
      " feels_like         | -0.2                        \n",
      " dew_point          | -3.0                        \n",
      " humidity           | 67.8                        \n",
      " precipitation      | 15.33                       \n",
      " precipitation_prob | 100                         \n",
      " precipitation_type | rain                        \n",
      " snow               | 0.0                         \n",
      " snow_depth         | 0.0                         \n",
      " wind_gust          | null                        \n",
      " wind_speed         | 15.5                        \n",
      " wind_direction     | 69.8                        \n",
      " sea_level_pressure | 1028.9                      \n",
      " cloud_cover        | 50.6                        \n",
      " visibility         | 14.0                        \n",
      " uv_index           | 3                           \n",
      " severe_risk        | null                        \n",
      "\n"
     ]
    }
   ],
   "source": [
    "spark.sql(\"\"\"\n",
    "    SELECT * FROM weather LIMIT 1;\n",
    "\"\"\").show(vertical=True, truncate=False)"
   ]
  },
  {
   "cell_type": "markdown",
   "id": "6b288579-5bae-4249-a7e5-854b2b54696e",
   "metadata": {},
   "source": [
    "### Data Preprocessing"
   ]
  },
  {
   "cell_type": "markdown",
   "id": "f8e2eea6-67a2-4b36-9b0a-9cfdc719fed9",
   "metadata": {},
   "source": [
    "#### Notes:\n",
    "\n",
    "- As we can see, we only have a weather data about one city - New York;\n",
    "- Moreover, we have a daily data about weather in the city - 365 entries - for one year;\n",
    "- Thus, we may use time features from our \"trips_part\" dataset to join these dataframes together;\n",
    "- Since we may have multiple trips happen in the same day during the same weather, we may omit all the columns from the \"weather\" dataframe and use its index instead (ordinal encoding). Why? - If we do not do it, we will have multiple repeating column values for multiple rows. So, we can combine all weather columns in one singe column - index (e.g. from 0 to 364);\n",
    "- Additionally, we have \"taxi_zones\" dataframe. We may join this dataframe and encode all the zones."
   ]
  },
  {
   "cell_type": "code",
   "execution_count": 12,
   "id": "502fb4b7-277b-4514-a8f5-b6802d90901a",
   "metadata": {
    "tags": []
   },
   "outputs": [],
   "source": [
    "# Remove an unnecessary table/View\n",
    "del trips"
   ]
  },
  {
   "cell_type": "code",
   "execution_count": 13,
   "id": "917ce7a8-2902-420e-a144-52bffe228b3a",
   "metadata": {},
   "outputs": [
    {
     "name": "stdout",
     "output_type": "stream",
     "text": [
      "+------------+---------------+--------------------+\n",
      "|station_name|station_address|    resolved_address|\n",
      "+------------+---------------+--------------------+\n",
      "|         nyc|            nyc|New York, NY, Uni...|\n",
      "+------------+---------------+--------------------+\n",
      "\n"
     ]
    }
   ],
   "source": [
    "# Ensure that we have only one weather station\n",
    "weather.select(\"station_name\", \"station_address\", \"resolved_address\").distinct().show()"
   ]
  },
  {
   "cell_type": "code",
   "execution_count": 14,
   "id": "413f52a7-0f96-43b3-9170-f021fb8ebe32",
   "metadata": {},
   "outputs": [
    {
     "name": "stdout",
     "output_type": "stream",
     "text": [
      "-RECORD 0-----------------------\n",
      " trip_id              | 0       \n",
      " hvfhs_license_num    | 0       \n",
      " originating_base_num | 674478  \n",
      " request_datetime     | 0       \n",
      " on_scene_datetime    | 673284  \n",
      " pickup_datetime      | 0       \n",
      " dropoff_datetime     | 0       \n",
      " pu_location_id       | 0       \n",
      " do_location_id       | 0       \n",
      " trip_miles           | 0       \n",
      " trip_time            | 0       \n",
      " base_passenger_fare  | 0       \n",
      " tolls                | 0       \n",
      " bcf                  | 0       \n",
      " sales_tax            | 0       \n",
      " congestion_surcharge | 0       \n",
      " airport_fee          | 2449696 \n",
      " tips                 | 0       \n",
      " driver_pay           | 0       \n",
      " shared_request_flag  | 0       \n",
      " shared_match_flag    | 0       \n",
      " wav_request_flag     | 0       \n",
      " wav_match_flag       | 0       \n",
      " request_date         | 0       \n",
      " request_time         | 0       \n",
      " dispatching_base_num | 0       \n",
      "\n",
      "-RECORD 0-----------\n",
      " location_id  | 0   \n",
      " borough      | 0   \n",
      " zone         | 0   \n",
      " service_zone | 0   \n",
      "\n",
      "-RECORD 0-----------------\n",
      " station_name       | 0   \n",
      " station_address    | 0   \n",
      " resolved_address   | 0   \n",
      " date_id            | 0   \n",
      " temperature        | 0   \n",
      " feels_like         | 0   \n",
      " dew_point          | 0   \n",
      " humidity           | 0   \n",
      " precipitation      | 0   \n",
      " precipitation_prob | 0   \n",
      " precipitation_type | 213 \n",
      " snow               | 0   \n",
      " snow_depth         | 0   \n",
      " wind_gust          | 73  \n",
      " wind_speed         | 0   \n",
      " wind_direction     | 0   \n",
      " sea_level_pressure | 0   \n",
      " cloud_cover        | 0   \n",
      " visibility         | 0   \n",
      " uv_index           | 0   \n",
      " severe_risk        | 365 \n",
      "\n"
     ]
    }
   ],
   "source": [
    "# Check the amount of NULL values in our dataframes\n",
    "trips_part.select(\n",
    "    [\n",
    "        F.count(\n",
    "            F.when(F.col(c).isNull(), c)\n",
    "        ).alias(c) for c in trips_part.columns\n",
    "    ]\n",
    ").show(vertical=True, truncate=False)\n",
    "\n",
    "taxi_zones.select(\n",
    "    [\n",
    "        F.count(\n",
    "            F.when(F.col(c).isNull(), c)\n",
    "        ).alias(c) for c in taxi_zones.columns\n",
    "    ]\n",
    ").show(vertical=True, truncate=False)\n",
    "\n",
    "weather.select(\n",
    "    [\n",
    "        F.count(\n",
    "            F.when(F.col(c).isNull(), c)\n",
    "        ).alias(c) for c in weather.columns\n",
    "    ]\n",
    ").show(vertical=True, truncate=False)"
   ]
  },
  {
   "cell_type": "markdown",
   "id": "2b5e5b32-4d55-46a3-b976-b02cb2dec321",
   "metadata": {},
   "source": [
    "#### Regarding the NULL values\n",
    "\n",
    "- \"trips_part\":\n",
    "    * We will not need \"originating_base_num\" because we will use \"pu_location_id\" and \"do_location_id\";\n",
    "    * We will not need \"on_scene_datetime\" as well as \"pickup_datetime\"/\"dropoff_datetime\" because all these timestamps indicate one day. Thus, we can extract this information from \"request_datetime\";\n",
    "    * We will drop \"airport_fee\" due to large amount of missing values.\n",
    "- \"weather\":\n",
    "    * We can drop \"precipitation_type\", \"wind_fust\", and \"severe_risk\" due to substantial amount of missing values."
   ]
  },
  {
   "cell_type": "code",
   "execution_count": 15,
   "id": "36062fda-6a3c-4e94-8149-821248aca048",
   "metadata": {},
   "outputs": [],
   "source": [
    "# Drop columns with missing values\n",
    "trips_part = trips_part.drop(\"originating_base_num\", \"on_scene_datetime\",\n",
    "                             \"airport_fee\")\n",
    "weather = weather.drop(\"precipitation_type\", \"wind_gust\", \"severe_risk\")"
   ]
  },
  {
   "cell_type": "markdown",
   "id": "de5fa91c-2318-4851-bd62-c1d1b5d4a4b0",
   "metadata": {},
   "source": [
    "#### Extract \"day\" and \"month\" from the timestamps"
   ]
  },
  {
   "cell_type": "code",
   "execution_count": 16,
   "id": "c86a4503-7325-4d4a-815a-f3ddc6c78cdf",
   "metadata": {},
   "outputs": [
    {
     "data": {
      "text/plain": [
       "int"
      ]
     },
     "execution_count": 16,
     "metadata": {},
     "output_type": "execute_result"
    }
   ],
   "source": [
    "# Ensure that it has an integer date type\n",
    "type(trips_part.select(\"pickup_datetime\")\n",
    "     .limit(10)\n",
    "     .collect()[0]\n",
    "     .pickup_datetime)"
   ]
  },
  {
   "cell_type": "code",
   "execution_count": 17,
   "id": "d2d434f4-dbfc-4704-8369-6402644570c6",
   "metadata": {},
   "outputs": [
    {
     "name": "stdout",
     "output_type": "stream",
     "text": [
      "+--------------------+---+-----+\n",
      "|                date|day|month|\n",
      "+--------------------+---+-----+\n",
      "|+52991-04-28 09:5...| 28|    4|\n",
      "|+52991-04-11 21:3...| 11|    4|\n",
      "|+52991-04-10 21:2...| 10|    4|\n",
      "|+52991-03-30 16:3...| 30|    3|\n",
      "|+52991-04-05 21:5...|  5|    4|\n",
      "|+52991-05-08 02:1...|  8|    5|\n",
      "|+52991-05-01 11:3...|  1|    5|\n",
      "|+52991-04-27 21:2...| 27|    4|\n",
      "|+52991-05-06 23:1...|  6|    5|\n",
      "|+52991-05-09 10:2...|  9|    5|\n",
      "+--------------------+---+-----+\n",
      "\n"
     ]
    }
   ],
   "source": [
    "# Parse \"day\", \"month\", \"day_month\" columns\n",
    "trips_part = trips_part.withColumn(\n",
    "    \"date\", F.from_unixtime(\"pickup_datetime\").cast(\"timestamp\")\n",
    ").withColumn(\n",
    "    \"day\", F.dayofmonth(\"date\")\n",
    ").withColumn(\n",
    "    \"month\", F.month(\"date\")\n",
    ")\n",
    "\n",
    "trips_part.select(\"date\", \"day\", \"month\").limit(10).show()"
   ]
  },
  {
   "cell_type": "code",
   "execution_count": 18,
   "id": "12ebf0f3-cfbc-468d-ba4c-a3ae5cc6de47",
   "metadata": {},
   "outputs": [
    {
     "data": {
      "text/plain": [
       "int"
      ]
     },
     "execution_count": 18,
     "metadata": {},
     "output_type": "execute_result"
    }
   ],
   "source": [
    "# Ensure the proper data type\n",
    "type(weather.select(\"date_id\").limit(10).collect()[0].date_id)"
   ]
  },
  {
   "cell_type": "code",
   "execution_count": 19,
   "id": "d688f61e-156d-4533-b8e6-fb01c927d650",
   "metadata": {},
   "outputs": [
    {
     "name": "stdout",
     "output_type": "stream",
     "text": [
      "+--------------------+-----+-------+\n",
      "|              date_w|day_w|month_w|\n",
      "+--------------------+-----+-------+\n",
      "|+52971-05-23 03:0...|   23|      5|\n",
      "|+52974-02-16 03:0...|   16|      2|\n",
      "|+52976-11-12 03:0...|   12|     11|\n",
      "|+52979-08-09 03:0...|    9|      8|\n",
      "|+52982-05-05 03:0...|    5|      5|\n",
      "|+52985-01-29 03:0...|   29|      1|\n",
      "|+52987-10-26 03:0...|   26|     10|\n",
      "|+52990-07-22 03:0...|   22|      7|\n",
      "|+52993-04-17 03:0...|   17|      4|\n",
      "|+52996-01-12 03:0...|   12|      1|\n",
      "+--------------------+-----+-------+\n",
      "\n"
     ]
    }
   ],
   "source": [
    "# Do the same with the \"weather\" dataframe\n",
    "weather = weather.withColumn(\n",
    "    \"date_w\", F.from_unixtime(\"date_id\").cast(\"timestamp\")\n",
    ").withColumn(\n",
    "    \"day_w\", F.dayofmonth(\"date_w\")\n",
    ").withColumn(\n",
    "    \"month_w\", F.month(\"date_w\")\n",
    ")\n",
    "\n",
    "weather.select(\"date_w\", \"day_w\", \"month_w\").limit(10).show()"
   ]
  },
  {
   "cell_type": "code",
   "execution_count": 20,
   "id": "8191fe8a-b80d-47d0-81c1-51833e26f906",
   "metadata": {},
   "outputs": [
    {
     "name": "stdout",
     "output_type": "stream",
     "text": [
      "-RECORD 0-------------------------------------------\n",
      " trip_id              | 2262639                     \n",
      " hvfhs_license_num    | HV0004                      \n",
      " request_datetime     | 1610022694000               \n",
      " pickup_datetime      | 1610023359000               \n",
      " dropoff_datetime     | 1610024209000               \n",
      " pu_location_id       | 74                          \n",
      " do_location_id       | 262                         \n",
      " trip_miles           | 2.29                        \n",
      " trip_time            | 849                         \n",
      " base_passenger_fare  | 12.95                       \n",
      " tolls                | 0.0                         \n",
      " bcf                  | 0.0                         \n",
      " sales_tax            | 0.92                        \n",
      " congestion_surcharge | 2.75                        \n",
      " tips                 | 0.0                         \n",
      " driver_pay           | 0.0                         \n",
      " shared_request_flag  | N                           \n",
      " shared_match_flag    | N                           \n",
      " wav_request_flag     | N                           \n",
      " wav_match_flag       | Y                           \n",
      " request_date         | 1609966800000               \n",
      " request_time         | 45094000                    \n",
      " dispatching_base_num | B03136                      \n",
      " date                 | +52989-08-10 17:50:00       \n",
      " day                  | 10                          \n",
      " month                | 8                           \n",
      " station_name         | nyc                         \n",
      " station_address      | nyc                         \n",
      " resolved_address     | New York, NY, United States \n",
      " date_id              | 1618606800000               \n",
      " temperature          | 9.6                         \n",
      " feels_like           | 8.7                         \n",
      " dew_point            | 1.4                         \n",
      " humidity             | 58.2                        \n",
      " precipitation        | 0.0                         \n",
      " precipitation_prob   | 0                           \n",
      " snow                 | 0.0                         \n",
      " snow_depth           | 0.0                         \n",
      " wind_speed           | 16.3                        \n",
      " wind_direction       | 299.6                       \n",
      " sea_level_pressure   | 1007.8                      \n",
      " cloud_cover          | 95.1                        \n",
      " visibility           | 16.0                        \n",
      " uv_index             | 6                           \n",
      "\n"
     ]
    }
   ],
   "source": [
    "# Join \"trips_part\" and \"weather\" on \"day_month\"\n",
    "# And drop unnecesary date columns (with \"_w\")\n",
    "combined_df = trips_part.join(\n",
    "    F.broadcast(weather),\n",
    "    (trips_part[\"day\"] == weather[\"day_w\"]) &\n",
    "    (trips_part[\"month\"] == weather[\"month_w\"]),\n",
    "    \"inner\",\n",
    ").drop(\"date_w\", \"day_w\", \"month_w\")\n",
    "\n",
    "combined_df.limit(1).show(vertical=True, truncate=False)"
   ]
  },
  {
   "cell_type": "markdown",
   "id": "c37348e5-68ea-4574-b80c-fa5a6ee24cd2",
   "metadata": {},
   "source": [
    "#### Add taxi zones data to our combined dataframe"
   ]
  },
  {
   "cell_type": "code",
   "execution_count": 21,
   "id": "6632e1d2-1c34-41b6-a131-004976d46d80",
   "metadata": {},
   "outputs": [
    {
     "name": "stdout",
     "output_type": "stream",
     "text": [
      "+-----------+-------------+--------------------+------------+\n",
      "|location_id|      borough|                zone|service_zone|\n",
      "+-----------+-------------+--------------------+------------+\n",
      "|          1|          EWR|      Newark Airport|         EWR|\n",
      "|          2|       Queens|         Jamaica Bay|   Boro Zone|\n",
      "|          3|        Bronx|Allerton/Pelham G...|   Boro Zone|\n",
      "|          4|    Manhattan|       Alphabet City| Yellow Zone|\n",
      "|          5|Staten Island|       Arden Heights|   Boro Zone|\n",
      "|          6|Staten Island|Arrochar/Fort Wad...|   Boro Zone|\n",
      "|          7|       Queens|             Astoria|   Boro Zone|\n",
      "|          8|       Queens|        Astoria Park|   Boro Zone|\n",
      "|          9|       Queens|          Auburndale|   Boro Zone|\n",
      "|         10|       Queens|        Baisley Park|   Boro Zone|\n",
      "+-----------+-------------+--------------------+------------+\n",
      "\n"
     ]
    }
   ],
   "source": [
    "taxi_zones.limit(10).show()"
   ]
  },
  {
   "cell_type": "code",
   "execution_count": 22,
   "id": "dbb53c2a-a631-4b48-98bc-5fe6ee79fb13",
   "metadata": {},
   "outputs": [
    {
     "name": "stdout",
     "output_type": "stream",
     "text": [
      "borough: 7\n",
      "zone: 262\n",
      "service_zone: 5\n"
     ]
    }
   ],
   "source": [
    "# Calculate the amount of unique values in each column\n",
    "print(f'borough: {taxi_zones.select(\"borough\").distinct().count()}')\n",
    "print(f'zone: {taxi_zones.select(\"zone\").distinct().count()}')\n",
    "print(f'service_zone: {taxi_zones.select(\"service_zone\").distinct().count()}')"
   ]
  },
  {
   "cell_type": "code",
   "execution_count": 23,
   "id": "67d3ddcc-d803-47c6-8554-aa70698066d1",
   "metadata": {},
   "outputs": [
    {
     "data": {
      "text/plain": [
       "['location_id', 'borough', 'zone', 'service_zone']"
      ]
     },
     "execution_count": 23,
     "metadata": {},
     "output_type": "execute_result"
    }
   ],
   "source": [
    "taxi_zones.columns"
   ]
  },
  {
   "cell_type": "code",
   "execution_count": 24,
   "id": "e9f8bbc3-4c8b-4c1f-8aca-4658c1c43d20",
   "metadata": {},
   "outputs": [
    {
     "name": "stdout",
     "output_type": "stream",
     "text": [
      "\n",
      "Value counts for borough:\n",
      "+-------------+-----+\n",
      "|borough      |count|\n",
      "+-------------+-----+\n",
      "|Manhattan    |69   |\n",
      "|Queens       |69   |\n",
      "|Brooklyn     |61   |\n",
      "|Bronx        |43   |\n",
      "|Staten Island|20   |\n",
      "|Unknown      |2    |\n",
      "|EWR          |1    |\n",
      "+-------------+-----+\n",
      "\n",
      "\n",
      "Value counts for zone:\n",
      "+---------------------------------------------+-----+\n",
      "|zone                                         |count|\n",
      "+---------------------------------------------+-----+\n",
      "|Governor's Island/Ellis Island/Liberty Island|3    |\n",
      "|Corona                                       |2    |\n",
      "|Homecrest                                    |1    |\n",
      "|Bensonhurst West                             |1    |\n",
      "|Newark Airport                               |1    |\n",
      "|Douglaston                                   |1    |\n",
      "|Westerleigh                                  |1    |\n",
      "|Marble Hill                                  |1    |\n",
      "|Charleston/Tottenville                       |1    |\n",
      "|Upper East Side South                        |1    |\n",
      "|East Concourse/Concourse Village             |1    |\n",
      "|Mount Hope                                   |1    |\n",
      "|Pelham Parkway                               |1    |\n",
      "|Rego Park                                    |1    |\n",
      "|Dyker Heights                                |1    |\n",
      "|Heartland Village/Todt Hill                  |1    |\n",
      "|Kew Gardens Hills                            |1    |\n",
      "|Rikers Island                                |1    |\n",
      "|Bayside                                      |1    |\n",
      "|Jackson Heights                              |1    |\n",
      "+---------------------------------------------+-----+\n",
      "only showing top 20 rows\n",
      "\n",
      "\n",
      "Value counts for service_zone:\n",
      "+------------+-----+\n",
      "|service_zone|count|\n",
      "+------------+-----+\n",
      "|Boro Zone   |205  |\n",
      "|Yellow Zone |55   |\n",
      "|N/A         |2    |\n",
      "|Airports    |2    |\n",
      "|EWR         |1    |\n",
      "+------------+-----+\n",
      "\n"
     ]
    }
   ],
   "source": [
    "# Calculate the amount of each unique value in \"taxi_zones\"\n",
    "for col in taxi_zones.columns[1:]:\n",
    "    print(f\"\\nValue counts for {col}:\")\n",
    "    taxi_zones.groupBy(col).count().orderBy(F.desc(\"count\")).show(truncate=False)"
   ]
  },
  {
   "cell_type": "markdown",
   "id": "2ffaa54a-ab27-4021-89bf-a1302418ea7b",
   "metadata": {},
   "source": [
    "As you can see, almost all the values in \"zone\" column are unique. That is why we can drop this column."
   ]
  },
  {
   "cell_type": "code",
   "execution_count": 25,
   "id": "172b4cb4-b5a0-4802-8587-30b65c6adafd",
   "metadata": {},
   "outputs": [
    {
     "data": {
      "text/plain": [
       "['location_id', 'borough', 'service_zone']"
      ]
     },
     "execution_count": 25,
     "metadata": {},
     "output_type": "execute_result"
    }
   ],
   "source": [
    "# Drop \"zone\" column\n",
    "taxi_zones = taxi_zones.drop(\"zone\")\n",
    "taxi_zones.columns"
   ]
  },
  {
   "cell_type": "code",
   "execution_count": 26,
   "id": "db6c5946-f259-4862-a56e-9b355d9bd102",
   "metadata": {},
   "outputs": [],
   "source": [
    "# Encode categorical values\n",
    "# We will stick with One-Hot Encoding for these 2 columns\n",
    "# Define our taxi_zone_encode_pipeline\n",
    "taxi_zone_encode_pipeline = Pipeline(\n",
    "    stages=[\n",
    "        StringIndexer(\n",
    "            inputCol=\"borough\",\n",
    "            outputCol=\"borough_indexed\",\n",
    "            handleInvalid=\"keep\",\n",
    "        ),\n",
    "        OneHotEncoder(\n",
    "            inputCol=\"borough_indexed\",\n",
    "            outputCol=\"borough_encoded\",\n",
    "            dropLast=False,\n",
    "        ),\n",
    "        StringIndexer(\n",
    "            inputCol=\"service_zone\",\n",
    "            outputCol=\"service_zone_indexed\",\n",
    "            handleInvalid=\"keep\",\n",
    "        ),\n",
    "        OneHotEncoder(\n",
    "            inputCol=\"service_zone_indexed\",\n",
    "            outputCol=\"service_zone_encoded\",\n",
    "            dropLast=False,\n",
    "        )\n",
    "    ]\n",
    ")"
   ]
  },
  {
   "cell_type": "code",
   "execution_count": 27,
   "id": "a4387228-c2a4-46ca-8300-b25d8622defc",
   "metadata": {},
   "outputs": [
    {
     "name": "stdout",
     "output_type": "stream",
     "text": [
      "+-----------+---------------+--------------------+\n",
      "|location_id|borough_encoded|service_zone_encoded|\n",
      "+-----------+---------------+--------------------+\n",
      "|          1|  (8,[6],[1.0])|       (6,[4],[1.0])|\n",
      "|          2|  (8,[1],[1.0])|       (6,[0],[1.0])|\n",
      "|          3|  (8,[3],[1.0])|       (6,[0],[1.0])|\n",
      "|          4|  (8,[0],[1.0])|       (6,[1],[1.0])|\n",
      "|          5|  (8,[4],[1.0])|       (6,[0],[1.0])|\n",
      "|          6|  (8,[4],[1.0])|       (6,[0],[1.0])|\n",
      "|          7|  (8,[1],[1.0])|       (6,[0],[1.0])|\n",
      "|          8|  (8,[1],[1.0])|       (6,[0],[1.0])|\n",
      "|          9|  (8,[1],[1.0])|       (6,[0],[1.0])|\n",
      "|         10|  (8,[1],[1.0])|       (6,[0],[1.0])|\n",
      "+-----------+---------------+--------------------+\n",
      "\n"
     ]
    }
   ],
   "source": [
    "# Fit our pipeline\n",
    "taxi_zone_encoder = taxi_zone_encode_pipeline.fit(taxi_zones)\n",
    "taxi_zone_encoded = taxi_zone_encoder.transform(taxi_zones).drop(\n",
    "    \"borough\",\n",
    "    \"service_zone\",\n",
    "    \"borough_indexed\",\n",
    "    \"service_zone_indexed\"\n",
    ")\n",
    "\n",
    "taxi_zone_encoded.limit(10).show()"
   ]
  },
  {
   "cell_type": "code",
   "execution_count": 28,
   "id": "c9b1b4fa-d100-46ea-be0d-5f77a3ccf728",
   "metadata": {},
   "outputs": [
    {
     "name": "stdout",
     "output_type": "stream",
     "text": [
      "+--------------+--------------+\n",
      "|pu_location_id|do_location_id|\n",
      "+--------------+--------------+\n",
      "|            72|            61|\n",
      "|           237|            34|\n",
      "|           237|            34|\n",
      "|           107|           148|\n",
      "|            20|           138|\n",
      "|            20|           138|\n",
      "|            73|           171|\n",
      "|            73|           171|\n",
      "|           250|           140|\n",
      "|           250|           140|\n",
      "+--------------+--------------+\n",
      "\n"
     ]
    }
   ],
   "source": [
    "combined_df.select(\"pu_location_id\", \"do_location_id\").limit(10).show()"
   ]
  },
  {
   "cell_type": "code",
   "execution_count": 29,
   "id": "712cbc11-f6cd-4713-9d0a-3e7671cf74a2",
   "metadata": {},
   "outputs": [
    {
     "name": "stdout",
     "output_type": "stream",
     "text": [
      "+-----------+---------------+--------------------+\n",
      "|location_id|borough_encoded|service_zone_encoded|\n",
      "+-----------+---------------+--------------------+\n",
      "|        253|  (8,[1],[1.0])|       (6,[0],[1.0])|\n",
      "+-----------+---------------+--------------------+\n",
      "\n"
     ]
    }
   ],
   "source": [
    "taxi_zone_encoded.filter(taxi_zone_encoded[\"location_id\"] == 253).show()"
   ]
  },
  {
   "cell_type": "code",
   "execution_count": 30,
   "id": "80c5f4ca-01fb-4c4f-bb0a-e2de61c3cf44",
   "metadata": {},
   "outputs": [],
   "source": [
    "# Define the dataframe for pick ups\n",
    "pu_taxi_zone_encoded = taxi_zone_encoded.select(\n",
    "    *[F.col(col).alias(f\"{col}_pu\") for col in taxi_zone_encoded.columns]\n",
    ")\n",
    "\n",
    "# Define the dataframe for drop offs\n",
    "do_taxi_zone_encoded = taxi_zone_encoded.select(\n",
    "    *[F.col(col).alias(f\"{col}_do\") for col in taxi_zone_encoded.columns]\n",
    ")"
   ]
  },
  {
   "cell_type": "code",
   "execution_count": 31,
   "id": "b36e6f3c-d8e4-40d1-be67-6f77559cf10f",
   "metadata": {},
   "outputs": [
    {
     "name": "stdout",
     "output_type": "stream",
     "text": [
      "-RECORD 0----------------------------------------------\n",
      " trip_id                 | 2449218                     \n",
      " hvfhs_license_num       | HV0003                      \n",
      " request_datetime        | 1610077693000               \n",
      " pickup_datetime         | 1610077934000               \n",
      " dropoff_datetime        | 1610078383000               \n",
      " pu_location_id          | 168                         \n",
      " do_location_id          | 168                         \n",
      " trip_miles              | 1.48                        \n",
      " trip_time               | 449                         \n",
      " base_passenger_fare     | 8.39                        \n",
      " tolls                   | 0.0                         \n",
      " bcf                     | 0.25                        \n",
      " sales_tax               | 0.74                        \n",
      " congestion_surcharge    | 0.0                         \n",
      " tips                    | 0.0                         \n",
      " driver_pay              | 5.42                        \n",
      " shared_request_flag     | N                           \n",
      " shared_match_flag       | N                           \n",
      " wav_request_flag        | N                           \n",
      " wav_match_flag          | N                           \n",
      " request_date            | 1610053200000               \n",
      " request_time            | 13693000                    \n",
      " dispatching_base_num    | B02877                      \n",
      " date                    | +52991-05-04 09:33:20       \n",
      " day                     | 4                           \n",
      " month                   | 5                           \n",
      " station_name            | nyc                         \n",
      " station_address         | nyc                         \n",
      " resolved_address        | New York, NY, United States \n",
      " date_id                 | 1622322000000               \n",
      " temperature             | 9.8                         \n",
      " feels_like              | 8.4                         \n",
      " dew_point               | 7.7                         \n",
      " humidity                | 86.5                        \n",
      " precipitation           | 23.49                       \n",
      " precipitation_prob      | 100                         \n",
      " snow                    | 0.0                         \n",
      " snow_depth              | 0.0                         \n",
      " wind_speed              | 22.8                        \n",
      " wind_direction          | 102.4                       \n",
      " sea_level_pressure      | 1020.7                      \n",
      " cloud_cover             | 100.0                       \n",
      " visibility              | 10.1                        \n",
      " uv_index                | 1                           \n",
      " location_id_pu          | 168                         \n",
      " borough_encoded_pu      | (8,[3],[1.0])               \n",
      " service_zone_encoded_pu | (6,[0],[1.0])               \n",
      " location_id_do          | 168                         \n",
      " borough_encoded_do      | (8,[3],[1.0])               \n",
      " service_zone_encoded_do | (6,[0],[1.0])               \n",
      "\n"
     ]
    }
   ],
   "source": [
    "# Join our combined dataframe with \"taxi_zone_encoded\" on:\n",
    "# \"pu_location_id\" - Beginning of the trip;\n",
    "# \"do_location_id\" - End of the trip.\n",
    "\n",
    "combined_df = combined_df.join(\n",
    "    pu_taxi_zone_encoded,\n",
    "    combined_df[\"pu_location_id\"] == pu_taxi_zone_encoded[\"location_id_pu\"],\n",
    "    \"inner\",\n",
    ").join(\n",
    "    do_taxi_zone_encoded,\n",
    "    combined_df[\"do_location_id\"] == do_taxi_zone_encoded[\"location_id_do\"],\n",
    "    \"inner\",\n",
    ")\n",
    "\n",
    "combined_df.limit(1).show(vertical=True, truncate=False)"
   ]
  },
  {
   "cell_type": "markdown",
   "id": "3388eda5-c4e0-436f-8db5-2e057fe1bbb8",
   "metadata": {},
   "source": [
    "#### Custom Transformer\n",
    "\n",
    "Since we have day and month features, we need to encode the using sine and cosine transformations."
   ]
  },
  {
   "cell_type": "code",
   "execution_count": 32,
   "id": "903836c1-ab29-46c6-abce-5e284a19e533",
   "metadata": {},
   "outputs": [],
   "source": [
    "# Define a custom transformer for sine and cosine transformations\n",
    "# Template: https://csyhuang.github.io/2020/08/01/custom-transformer/\n",
    "class CyclicalEncoder(\n",
    "    Transformer,\n",
    "    HasInputCol,\n",
    "    HasOutputCols,\n",
    "    DefaultParamsReadable,\n",
    "    DefaultParamsWritable,\n",
    "):\n",
    "    @keyword_only\n",
    "    def __init__(self, inputCol=None, outputCols=None):\n",
    "        super(CyclicalEncoder, self).__init__()\n",
    "        self._setDefault(inputCol=None, outputCols=None)\n",
    "        kwargs = self._input_kwargs\n",
    "        self.set_params(**kwargs)\n",
    "\n",
    "    @keyword_only\n",
    "    def set_params(self, inputCol=None, outputCols=None):\n",
    "        kwargs = self._input_kwargs\n",
    "        return self._set(**kwargs)\n",
    "\n",
    "    def get_output_cols(self):\n",
    "        if self.isSet(\"outputCols\"):\n",
    "            return self.getOrDefault(\"outputCols\")\n",
    "        input_col = self.getInputCol()\n",
    "        return [f\"{input_col}_sine\", f\"{input_col}_cosine\"]\n",
    "\n",
    "    def _transform(self, df: DataFrame):\n",
    "        input_col = self.getInputCol()\n",
    "        output_cols = self.get_output_cols()\n",
    "\n",
    "        return df.withColumn(\n",
    "            output_cols[0], F.sin(2 * math.pi * F.col(input_col) / 12)\n",
    "        ).withColumn(\n",
    "            output_cols[1], F.cos(2 * math.pi * F.col(input_col) / 12),\n",
    "        )"
   ]
  },
  {
   "cell_type": "code",
   "execution_count": 33,
   "id": "77b76069-edf4-427c-94c1-f46d9d2a2966",
   "metadata": {},
   "outputs": [],
   "source": [
    "# Define our cyclical encoder pipeline\n",
    "day_month_encode_pipline = Pipeline(\n",
    "    stages=[\n",
    "        CyclicalEncoder(inputCol=\"day\"),\n",
    "        CyclicalEncoder(inputCol=\"month\"),\n",
    "    ]\n",
    ")"
   ]
  },
  {
   "cell_type": "code",
   "execution_count": null,
   "id": "2ad5c207-2155-48c9-bec1-4c22e24ddf8b",
   "metadata": {},
   "outputs": [
    {
     "name": "stdout",
     "output_type": "stream",
     "text": [
      "-RECORD 0----------------------------------------------\n",
      " trip_id                 | 2450082                     \n",
      " hvfhs_license_num       | HV0003                      \n",
      " request_datetime        | 1610074162000               \n",
      " pickup_datetime         | 1610075066000               \n",
      " dropoff_datetime        | 1610076518000               \n",
      " pu_location_id          | 81                          \n",
      " do_location_id          | 132                         \n",
      " trip_miles              | 18.35                       \n",
      " trip_time               | 1452                        \n",
      " base_passenger_fare     | 44.43                       \n",
      " tolls                   | 6.12                        \n",
      " bcf                     | 1.52                        \n",
      " sales_tax               | 4.49                        \n",
      " congestion_surcharge    | 0.0                         \n",
      " tips                    | 0.0                         \n",
      " driver_pay              | 40.03                       \n",
      " shared_request_flag     | N                           \n",
      " shared_match_flag       | N                           \n",
      " wav_request_flag        | N                           \n",
      " wav_match_flag          | N                           \n",
      " request_date            | 1610053200000               \n",
      " request_time            | 10162000                    \n",
      " dispatching_base_num    | B02617                      \n",
      " date                    | +52991-04-01 04:53:20       \n",
      " day                     | 1                           \n",
      " month                   | 4                           \n",
      " station_name            | nyc                         \n",
      " station_address         | nyc                         \n",
      " resolved_address        | New York, NY, United States \n",
      " date_id                 | 1619384400000               \n",
      " temperature             | 11.0                        \n",
      " feels_like              | 9.8                         \n",
      " dew_point               | -4.9                        \n",
      " humidity                | 35.2                        \n",
      " precipitation           | 0.0                         \n",
      " precipitation_prob      | 0                           \n",
      " snow                    | 0.0                         \n",
      " snow_depth              | 0.0                         \n",
      " wind_speed              | 30.4                        \n",
      " wind_direction          | 302.0                       \n",
      " sea_level_pressure      | 1015.3                      \n",
      " cloud_cover             | 10.3                        \n",
      " visibility              | 16.0                        \n",
      " uv_index                | 10                          \n",
      " location_id_pu          | 81                          \n",
      " borough_encoded_pu      | (8,[3],[1.0])               \n",
      " service_zone_encoded_pu | (6,[0],[1.0])               \n",
      " location_id_do          | 132                         \n",
      " borough_encoded_do      | (8,[1],[1.0])               \n",
      " service_zone_encoded_do | (6,[2],[1.0])               \n",
      " day_sine                | 0.49999999999999994         \n",
      " day_cosine              | 0.8660254037844387          \n",
      " month_sine              | 0.8660254037844387          \n",
      " month_cosine            | -0.4999999999999998         \n",
      "\n"
     ]
    }
   ],
   "source": [
    "# Fit the pipeline\n",
    "day_month_encoder = day_month_encode_pipline.fit(combined_df)\n",
    "\n",
    "combined_df = day_month_encoder.transform(combined_df)\n",
    "\n",
    "combined_df.limit(1).show(vertical=True, truncate=False)"
   ]
  },
  {
   "cell_type": "code",
   "execution_count": null,
   "id": "a833d93c-1be1-4e85-bb58-72fa2806df46",
   "metadata": {},
   "outputs": [
    {
     "data": {
      "text/plain": [
       "3"
      ]
     },
     "execution_count": 35,
     "metadata": {},
     "output_type": "execute_result"
    }
   ],
   "source": [
    "# Print the amount of unique values for \"hvfhs_license_num\"\n",
    "combined_df.select(\"hvfhs_license_num\").distinct().count()"
   ]
  },
  {
   "cell_type": "code",
   "execution_count": null,
   "id": "a697f732-5eb6-4c96-9b07-700247956bd5",
   "metadata": {},
   "outputs": [],
   "source": [
    "# Encode \"hvfhs_license_num\"\n",
    "# We will stick with One-Hot Encoding for this columns due to \n",
    "# small amount of unique values.\n",
    "# Define our \"license_num_pipeline\"\n",
    "license_num_encode_pipeline = Pipeline(\n",
    "    stages=[\n",
    "        StringIndexer(\n",
    "            inputCol=\"hvfhs_license_num\",\n",
    "            outputCol=\"hvfhs_license_num_indexed\",\n",
    "            handleInvalid=\"keep\",\n",
    "        ),\n",
    "        OneHotEncoder(\n",
    "            inputCol=\"hvfhs_license_num_indexed\",\n",
    "            outputCol=\"hvfhs_license_num_encoded\",\n",
    "            dropLast=False,\n",
    "        ),\n",
    "    ]\n",
    ")"
   ]
  },
  {
   "cell_type": "code",
   "execution_count": null,
   "id": "075ed05c-7f91-485a-824c-35405b8e05be",
   "metadata": {},
   "outputs": [],
   "source": [
    "# Fit our pipeline\n",
    "license_num_encoder = license_num_encode_pipeline.fit(combined_df)\n",
    "combined_df = license_num_encoder.transform(combined_df).drop(\n",
    "    \"hvfhs_license_num\",\n",
    "    \"hvfhs_license_num_indexed\",\n",
    ")"
   ]
  },
  {
   "cell_type": "code",
   "execution_count": null,
   "id": "3dfa9f02-1497-4149-b1d9-4648a0fe3ee7",
   "metadata": {},
   "outputs": [],
   "source": [
    "combined_df.limit(1).show(vertical=True, truncate=False)"
   ]
  },
  {
   "cell_type": "code",
   "execution_count": null,
   "id": "5a854972-0ea2-4bf3-b8a9-ced23bbb69fa",
   "metadata": {},
   "outputs": [],
   "source": [
    "# Drop unnecesary columns\n",
    "combined_df = combined_df.drop(\n",
    "    \"request_datetime\",\n",
    "    \"pickup_datetime\",\n",
    "    \"dropoff_datetime\",\n",
    "    \"request_date\",\n",
    "    \"request_time\",\n",
    "    \"pu_location_id\",\n",
    "    \"do_location_id\",\n",
    "    \"location_id_pu\",\n",
    "    \"location_id_do\",\n",
    "    \"dispatching_base_num\",\n",
    "    \"date\",\n",
    "    \"station_name\",\n",
    "    \"station_address\",\n",
    "    \"resolved_address\",\n",
    "    \"date_id\",\n",
    "    \"day\",\n",
    "    \"month\",\n",
    "    \"zone_pu\",\n",
    "    \"zone_do\",\n",
    ")\n",
    "\n",
    "combined_df.limit(1).show(vertical=True, truncate=False)"
   ]
  },
  {
   "cell_type": "code",
   "execution_count": null,
   "id": "6a3bf1ad-3a14-447b-8cca-35113fe3985c",
   "metadata": {},
   "outputs": [],
   "source": [
    "# Encode all flags:\n",
    "# \"Y\" - 1\n",
    "# \"N\" - 0\n",
    "columns_to_map = [\n",
    "    \"shared_request_flag\",\n",
    "    \"shared_match_flag\",\n",
    "    \"wav_request_flag\",\n",
    "    \"wav_match_flag\",\n",
    "]\n",
    "\n",
    "for column in columns_to_map:\n",
    "    combined_df = combined_df.withColumn(\n",
    "        column, F.when(\n",
    "            F.col(column) == \"Y\", 1\n",
    "        ).otherwise(0)\n",
    "    )"
   ]
  },
  {
   "cell_type": "code",
   "execution_count": null,
   "id": "2a45afc5-ca43-4146-9fd6-9a803eb4b68a",
   "metadata": {},
   "outputs": [],
   "source": [
    "# Check if there are any NULL values left in our dataframe\n",
    "combined_df.select(\n",
    "    [\n",
    "        F.count(\n",
    "            F.when(F.col(c).isNull(), c)\n",
    "        ).alias(c) for c in combined_df.columns\n",
    "    ]\n",
    ").show(vertical=True, truncate=False)"
   ]
  },
  {
   "cell_type": "code",
   "execution_count": null,
   "id": "99fc85e8-9ead-4b0c-af29-aaaba2167868",
   "metadata": {},
   "outputs": [],
   "source": [
    "# Exclude non-feature columns\n",
    "non_feature_cols = [\"trip_id\", \"driver_pay\"]\n",
    "\n",
    "# Get all feature columns\n",
    "feature_cols = [\n",
    "    col for col in combined_df.columns if col not in non_feature_cols\n",
    "]\n",
    "\n",
    "feature_cols"
   ]
  },
  {
   "cell_type": "code",
   "execution_count": null,
   "id": "2b2fcafb-f71d-45de-b789-4d6b66fb58cf",
   "metadata": {},
   "outputs": [],
   "source": [
    "# Define feature assembler\n",
    "feature_assembler = VectorAssembler(\n",
    "    inputCols=feature_cols,\n",
    "    outputCol=\"features\"\n",
    ")"
   ]
  },
  {
   "cell_type": "code",
   "execution_count": null,
   "id": "ad5618b4-184b-46fa-87d7-c92137e2aab3",
   "metadata": {},
   "outputs": [],
   "source": [
    "# Transform our features\n",
    "feature_df = feature_assembler.transform(combined_df)\n",
    "feature_df = feature_df.select(\n",
    "    [\n",
    "        col for col in feature_df.columns if col not in feature_cols\n",
    "    ]\n",
    ")\n",
    "\n",
    "feature_df.limit(1).show(vertical=True, truncate=False)"
   ]
  },
  {
   "cell_type": "code",
   "execution_count": null,
   "id": "9395a787-f2dc-417b-9515-717648b0a540",
   "metadata": {},
   "outputs": [],
   "source": [
    "# Check if there are any NULL values left in our dataframe\n",
    "feature_df.select(\n",
    "    [\n",
    "        F.count(\n",
    "            F.when(F.col(c).isNull(), c)\n",
    "        ).alias(c) for c in feature_df.columns\n",
    "    ]\n",
    ").show(vertical=True, truncate=False)"
   ]
  },
  {
   "cell_type": "code",
   "execution_count": null,
   "id": "6f1aa234-28a0-4923-83c6-f8f506d61121",
   "metadata": {},
   "outputs": [],
   "source": [
    "# Try to split the dataframes to see if it is working\n",
    "train_df, test_df = feature_df.randomSplit([0.7, 0.3], seed=42)\n",
    "\n",
    "train_df.count(), test_df.count()"
   ]
  },
  {
   "cell_type": "code",
   "execution_count": null,
   "id": "18bfbb0c-d4b7-482e-9f7a-273775a3ad73",
   "metadata": {},
   "outputs": [],
   "source": [
    "del train_df, test_df"
   ]
  },
  {
   "cell_type": "markdown",
   "id": "ce946cef-f695-452f-abee-36dbb70734f7",
   "metadata": {},
   "source": [
    "### Complete Preprocessing Pipeline\n",
    "\n",
    "If we want to automate the preprocessing, we need to define a single pipeline with all stages and proper logging."
   ]
  },
  {
   "cell_type": "code",
   "execution_count": null,
   "id": "01ddd86d-f34e-4186-908b-4a50f06a2704",
   "metadata": {},
   "outputs": [],
   "source": [
    "# Define a custom transformer for sine and cosine transformations\n",
    "# Template: https://csyhuang.github.io/2020/08/01/custom-transformer/\n",
    "class CyclicalEncoder(\n",
    "    Transformer,\n",
    "    HasInputCol,\n",
    "    HasOutputCols,\n",
    "    DefaultParamsReadable,\n",
    "    DefaultParamsWritable,\n",
    "):\n",
    "    @keyword_only\n",
    "    def __init__(self, inputCol=None, outputCols=None):\n",
    "        super(CyclicalEncoder, self).__init__()\n",
    "        self._setDefault(inputCol=None, outputCols=None)\n",
    "        kwargs = self._input_kwargs\n",
    "        self.set_params(**kwargs)\n",
    "\n",
    "    @keyword_only\n",
    "    def set_params(self, inputCol=None, outputCols=None):\n",
    "        kwargs = self._input_kwargs\n",
    "        return self._set(**kwargs)\n",
    "\n",
    "    def get_output_cols(self):\n",
    "        if self.isSet(\"outputCols\"):\n",
    "            return self.getOrDefault(\"outputCols\")\n",
    "        input_col = self.getInputCol()\n",
    "        return [f\"{input_col}_sine\", f\"{input_col}_cosine\"]\n",
    "\n",
    "    def _transform(self, df: DataFrame):\n",
    "        input_col = self.getInputCol()\n",
    "        output_cols = self.get_output_cols()\n",
    "\n",
    "        return df.withColumn(\n",
    "            output_cols[0], F.sin(2 * math.pi * F.col(input_col) / 12)\n",
    "        ).withColumn(\n",
    "            output_cols[1], F.cos(2 * math.pi * F.col(input_col) / 12),\n",
    "        )"
   ]
  },
  {
   "cell_type": "code",
   "execution_count": null,
   "id": "59152938-db45-411e-8ba4-b68c3cdd544b",
   "metadata": {},
   "outputs": [],
   "source": [
    "class DataPreprocessor:\n",
    "\n",
    "    def __init__(self):\n",
    "        self.pipelines = {\n",
    "            \"taxi_zone_encode\": Pipeline(\n",
    "                stages=[\n",
    "                    StringIndexer(\n",
    "                        inputCol=\"borough\",\n",
    "                        outputCol=\"borough_indexed\",\n",
    "                        handleInvalid=\"keep\",\n",
    "                    ),\n",
    "                    OneHotEncoder(\n",
    "                        inputCol=\"borough_indexed\",\n",
    "                        outputCol=\"borough_encoded\",\n",
    "                        dropLast=False,\n",
    "                    ),\n",
    "                    StringIndexer(\n",
    "                        inputCol=\"service_zone\",\n",
    "                        outputCol=\"service_zone_indexed\",\n",
    "                        handleInvalid=\"keep\",\n",
    "                    ),\n",
    "                    OneHotEncoder(\n",
    "                        inputCol=\"service_zone_indexed\",\n",
    "                        outputCol=\"service_zone_encoded\",\n",
    "                        dropLast=False,\n",
    "                    )\n",
    "                ]\n",
    "            ),\n",
    "            \"cyclical_encode\": Pipeline(\n",
    "                stages=[\n",
    "                    CyclicalEncoder(inputCol=\"day\"),\n",
    "                    CyclicalEncoder(inputCol=\"month\"),\n",
    "                ]\n",
    "            ),\n",
    "            \"license_num_encode\": Pipeline(\n",
    "                stages=[\n",
    "                    StringIndexer(\n",
    "                        inputCol=\"hvfhs_license_num\",\n",
    "                        outputCol=\"hvfhs_license_num_indexed\",\n",
    "                        handleInvalid=\"keep\",\n",
    "                    ),\n",
    "                    OneHotEncoder(\n",
    "                        inputCol=\"hvfhs_license_num_indexed\",\n",
    "                        outputCol=\"hvfhs_license_num_encoded\",\n",
    "                        dropLast=False,\n",
    "                    ),\n",
    "                ]\n",
    "            )\n",
    "        }\n",
    "\n",
    "    def _drop_null_cols(self, df):\n",
    "        return df.drop(\n",
    "            [\n",
    "                col for col in df.columns if df.filter(\n",
    "                    F.col(col).isNull()\n",
    "                ).count() > 0\n",
    "            ]\n",
    "        )\n",
    "\n",
    "    def _drop_unnecessary_cols(self, df):\n",
    "        return df.drop(\n",
    "            \"request_datetime\",\n",
    "            \"pickup_datetime\",\n",
    "            \"dropoff_datetime\",\n",
    "            \"request_date\",\n",
    "            \"request_time\",\n",
    "            \"pu_location_id\",\n",
    "            \"do_location_id\",\n",
    "            \"location_id_pu\",\n",
    "            \"location_id_do\",\n",
    "            \"dispatching_base_num\",\n",
    "            \"date\",\n",
    "            \"station_name\",\n",
    "            \"station_address\",\n",
    "            \"resolved_address\",\n",
    "            \"date_id\",\n",
    "            \"day\",\n",
    "            \"month\",\n",
    "            \"date_w\",\n",
    "            \"day_w\",\n",
    "            \"month_w\",\n",
    "            \"zone\",\n",
    "            \"borough\",\n",
    "            \"service_zone\",\n",
    "            \"borough_indexed\",\n",
    "            \"service_zone_indexed\",\n",
    "            \"hvfhs_license_num\",\n",
    "            \"hvfhs_license_num_indexed\",\n",
    "        )\n",
    "\n",
    "    def _parse_date(self, df, date_col, prefix=False):\n",
    "        if prefix:\n",
    "            return df.withColumn(\n",
    "                \"date_w\", F.from_unixtime(date_col).cast(\"timestamp\")\n",
    "            ).withColumn(\n",
    "                \"day_w\", F.dayofmonth(\"date_w\")\n",
    "            ).withColumn(\n",
    "                \"month_w\", F.month(\"date_w\")\n",
    "            )\n",
    "        else:\n",
    "            return df.withColumn(\n",
    "                \"date\", F.from_unixtime(date_col).cast(\"timestamp\")\n",
    "            ).withColumn(\n",
    "                \"day\", F.dayofmonth(\"date\")\n",
    "            ).withColumn(\n",
    "                \"month\", F.month(\"date\")\n",
    "            )\n",
    "\n",
    "    def process(self, trips_part_df, taxi_zone_df, weather_df, show_progress=False):\n",
    "\n",
    "        # Drop columns with missing values\n",
    "        trips_part = trips_part_df.drop(\"originating_base_num\", \"on_scene_datetime\",\n",
    "                                     \"airport_fee\")\n",
    "        weather = weather_df.drop(\"precipitation_type\", \"wind_gust\", \"severe_risk\")\n",
    "\n",
    "        if show_progress:\n",
    "            print(\"Removed null columns.\")\n",
    "\n",
    "        # Parse dates for \"trips_part\" and \"weather\"\n",
    "        trips_part = self._parse_date(trips_part, \"pickup_datetime\")\n",
    "        weather = self._parse_date(weather, \"date_id\", prefix=True)\n",
    "\n",
    "        if show_progress:\n",
    "            print(\"Parsed the dates.\")\n",
    "\n",
    "        # Combine both dataframes\n",
    "        combined_df = trips_part.join(\n",
    "            F.broadcast(weather),\n",
    "            (trips_part[\"day\"] == weather[\"day_w\"]) &\n",
    "            (trips_part[\"month\"] == weather[\"month_w\"]),\n",
    "            \"inner\",\n",
    "        )\n",
    "\n",
    "        if show_progress:\n",
    "            print(\"joined 'trips_part' and 'weather'.\")\n",
    "\n",
    "        # Delete the unnecessary dataframes\n",
    "        del trips_part, weather\n",
    "\n",
    "        # Fit the taxi our pipeline\n",
    "        taxi_zone_encoder = self.pipelines.get(\n",
    "            \"taxi_zone_encode\"\n",
    "        ).fit(taxi_zone_df)\n",
    "        taxi_zone = taxi_zone_encoder.transform(taxi_zone_df).drop(\n",
    "            \"borough\",\n",
    "            \"zone\",\n",
    "            \"service_zone\",\n",
    "            \"borough_indexed\",\n",
    "            \"service_zone_indexed\",\n",
    "        )\n",
    "\n",
    "        if show_progress:\n",
    "            print(\"Encoded taxi zones.\")\n",
    "\n",
    "        # Define the dataframe for pick ups\n",
    "        pu_taxi_zone_encoded = taxi_zone.select(\n",
    "            *[F.col(col).alias(f\"{col}_pu\") for col in taxi_zone.columns]\n",
    "        )\n",
    "\n",
    "        # Define the dataframe for drop offs\n",
    "        do_taxi_zone_encoded = taxi_zone.select(\n",
    "            *[F.col(col).alias(f\"{col}_do\") for col in taxi_zone.columns]\n",
    "        )\n",
    "\n",
    "        # Add encoded pick up and drop off locations\n",
    "        combined_df = combined_df.join(\n",
    "            pu_taxi_zone_encoded,\n",
    "            combined_df[\"pu_location_id\"] == pu_taxi_zone_encoded[\"location_id_pu\"],\n",
    "            \"inner\",\n",
    "        ).join(\n",
    "            do_taxi_zone_encoded,\n",
    "            combined_df[\"do_location_id\"] == do_taxi_zone_encoded[\"location_id_do\"],\n",
    "            \"inner\",\n",
    "        )\n",
    "\n",
    "        if show_progress:\n",
    "            print(\"Added encoded pick up and drop off locations.\")\n",
    "\n",
    "        # Delete the unnecessary dataframes\n",
    "        del taxi_zone, pu_taxi_zone_encoded, do_taxi_zone_encoded\n",
    "\n",
    "        # Fit our cyclical encoder\n",
    "        cyclical_encoder = self.pipelines.get(\n",
    "            \"cyclical_encode\"\n",
    "        ).fit(combined_df)\n",
    "        combined_df = cyclical_encoder.transform(combined_df)\n",
    "\n",
    "        if show_progress:\n",
    "            print(\"Encoded days and months using sine and cosine transformations.\")\n",
    "\n",
    "        # Fit our license num encoder\n",
    "        license_num_encoder = self.pipelines.get(\n",
    "            \"license_num_encode\"\n",
    "        ).fit(combined_df)\n",
    "        combined_df = license_num_encoder.transform(combined_df)\n",
    "\n",
    "        if show_progress:\n",
    "            print(\"Encoded license numbers.\")\n",
    "\n",
    "        # Encode all flags:\n",
    "        # \"Y\" - 1\n",
    "        # \"N\" - 0\n",
    "        columns_to_map = [\n",
    "            \"shared_request_flag\",\n",
    "            \"shared_match_flag\",\n",
    "            \"wav_request_flag\",\n",
    "            \"wav_match_flag\",\n",
    "        ]\n",
    "\n",
    "        for column in columns_to_map:\n",
    "            combined_df = combined_df.withColumn(\n",
    "                column, F.when(\n",
    "                    F.col(column) == \"Y\", 1\n",
    "                ).otherwise(0)\n",
    "            )\n",
    "\n",
    "        # Exclude non-feature columns\n",
    "        non_feature_cols = [\"trip_id\", \"driver_pay\"]\n",
    "\n",
    "        combined_df = self._drop_unnecessary_cols(combined_df)\n",
    "\n",
    "        # Get all feature columns\n",
    "        feature_cols = [\n",
    "            col for col in combined_df.columns if col not in non_feature_cols\n",
    "        ]\n",
    "\n",
    "        # Assemble all features together\n",
    "        feature_assembler = VectorAssembler(\n",
    "            inputCols=feature_cols,\n",
    "            outputCol=\"features\",\n",
    "        )\n",
    "\n",
    "        combined_df = feature_assembler.transform(combined_df)\n",
    "\n",
    "        return {\n",
    "            \"df\": combined_df.select(\"trip_id\", \"features\", \"driver_pay\"),\n",
    "            \"features\": feature_cols,\n",
    "            \"taxi_zone\": taxi_zone_encoder,\n",
    "            \"license_num\": license_num_encoder,\n",
    "        }"
   ]
  },
  {
   "cell_type": "code",
   "execution_count": null,
   "id": "49e55844-5a8f-417e-ab48-c293a95ec258",
   "metadata": {
    "tags": []
   },
   "outputs": [],
   "source": [
    "# Define our data preprocessor\n",
    "data_preprocessor = DataPreprocessor()"
   ]
  },
  {
   "cell_type": "code",
   "execution_count": null,
   "id": "8fbb14e4-45df-4171-a1ac-604c314bb662",
   "metadata": {},
   "outputs": [],
   "source": [
    "result = data_preprocessor.process(\n",
    "    trips_part,\n",
    "    taxi_zones,\n",
    "    weather,\n",
    "    show_progress=True\n",
    ")\n",
    "\n",
    "features_df = result.get(\"df\")\n",
    "taxi_zone_encoder = result.get(\"taxi_zone\")\n",
    "license_num_encoder = result.get(\"license_num\")\n",
    "feature_cols = result.get(\"features\")\n",
    "\n",
    "features_df.limit(1).show(vertical=True, truncate=False)"
   ]
  },
  {
   "cell_type": "code",
   "execution_count": null,
   "id": "33fa3b45-2d6c-42b4-a0f0-1aee61f8dd3b",
   "metadata": {},
   "outputs": [],
   "source": [
    "# Split into train and test datasets\n",
    "train_df, test_df = feature_df.randomSplit([0.7, 0.3], seed=42)\n",
    "\n",
    "train_df.count(), test_df.count()"
   ]
  },
  {
   "cell_type": "code",
   "execution_count": 13,
   "id": "d260e7ee-0df6-4ae1-abb9-6e902f3b4589",
   "metadata": {},
   "outputs": [],
   "source": [
    "# Load files via HDFS\n",
    "# Uncomment if you want to obtain preprocessed datasets saved in\n",
    "# the distributed cluster\n",
    "#train_hdfs_path = \"/user/team31/project/data/train\"\n",
    "#test_hdfs_path = \"/user/team31/project/data/test\"\n",
    "\n",
    "#train_df = spark.read.parquet(train_hdfs_path)\n",
    "#test_df = spark.read.parquet(test_hdfs_path)"
   ]
  },
  {
   "cell_type": "code",
   "execution_count": null,
   "id": "af2fee7c-4c98-4c28-9bc4-2df63d9c17be",
   "metadata": {
    "tags": []
   },
   "outputs": [],
   "source": [
    "train_df.limit(1).show(vertical=True, truncate=False)"
   ]
  },
  {
   "cell_type": "code",
   "execution_count": null,
   "id": "024def7b-745e-4aca-99e9-c1d75fdc8248",
   "metadata": {},
   "outputs": [],
   "source": [
    "train_df.schema"
   ]
  },
  {
   "cell_type": "markdown",
   "id": "ae841bb3-4750-4cdd-ac88-6f4399713e1a",
   "metadata": {
    "tags": []
   },
   "source": [
    "### Model fine-tuning\n",
    "\n",
    "Due to nature and complexity of our dataset we decided use the following architectures with their respective parameters:\n",
    "\n",
    "- Linear Regression - Requires Standardization:\n",
    "    * Regularization strength: [0.001, 0.01, 0.1, 1.0];\n",
    "    * Elastic net parameter (L1/L2 mix) (0=Ridge, 1=Lasso): [0.0, 0.25, 0.5, 0.75, 1.0].\n",
    "- Graditent Boosted Decision Trees - No data scaling required:\n",
    "    * Max depth of a tree: [3, 4, 5];\n",
    "    * Learning rate: [0.05, 0.1]."
   ]
  },
  {
   "cell_type": "code",
   "execution_count": 26,
   "id": "d25735e0-1a50-45de-8ee3-f376c95bfd4b",
   "metadata": {},
   "outputs": [],
   "source": [
    "# Standard scaler for features\n",
    "standard_scaler = StandardScaler(\n",
    "    inputCol=\"features\",\n",
    "    outputCol=\"features_standardazied\",\n",
    "    withStd=True,\n",
    "    withMean=True\n",
    ")\n",
    "\n",
    "# Linear Regression\n",
    "lr = LinearRegression(\n",
    "    featuresCol=\"features_standardazied\",\n",
    "    labelCol=\"driver_pay\",\n",
    "    predictionCol=\"driver_pay_pred\",\n",
    ")\n",
    "\n",
    "# Evaluator (for the initial evaluation we will use RMSE, MAE, and R^2)\n",
    "evaluators = {\n",
    "    \"rmse\": RegressionEvaluator(\n",
    "        metricName=\"rmse\",\n",
    "        labelCol=\"driver_pay\",\n",
    "        predictionCol=\"driver_pay_pred\",\n",
    "    ),\n",
    "    \"mae\": RegressionEvaluator(\n",
    "        metricName=\"mae\",\n",
    "        labelCol=\"driver_pay\",\n",
    "        predictionCol=\"driver_pay_pred\",\n",
    "    ),\n",
    "    \"r2\": RegressionEvaluator(\n",
    "        metricName=\"r2\",\n",
    "        labelCol=\"driver_pay\",\n",
    "        predictionCol=\"driver_pay_pred\",\n",
    "    )\n",
    "}"
   ]
  },
  {
   "cell_type": "code",
   "execution_count": 17,
   "id": "5c2c9719-23af-451d-9a29-e0f0dfa25088",
   "metadata": {},
   "outputs": [],
   "source": [
    "# Fit the standard scaler\n",
    "standard_scaler_fitted = standard_scaler.fit(train_df)"
   ]
  },
  {
   "cell_type": "code",
   "execution_count": 18,
   "id": "ef1d2697-fc9d-474a-af33-3533fd0b01fd",
   "metadata": {},
   "outputs": [],
   "source": [
    "# Scale the dataframes\n",
    "train_df = standard_scaler_fitted.transform(train_df)\n",
    "test_df = standard_scaler_fitted.transform(test_df)"
   ]
  },
  {
   "cell_type": "code",
   "execution_count": 19,
   "id": "5f92229f-3966-4380-8c38-0f7b0b10eba1",
   "metadata": {},
   "outputs": [
    {
     "name": "stdout",
     "output_type": "stream",
     "text": [
      "+--------------------+----------+----------------------+\n",
      "|            features|driver_pay|features_standardazied|\n",
      "+--------------------+----------+----------------------+\n",
      "|(62,[0,1,2,12,13,...|     11.81|  [-0.7055592075976...|\n",
      "+--------------------+----------+----------------------+\n",
      "\n"
     ]
    }
   ],
   "source": [
    "train_df.limit(1).show()"
   ]
  },
  {
   "cell_type": "code",
   "execution_count": 29,
   "id": "932e7f26-8edd-4d84-bede-6d9a6dc873b6",
   "metadata": {},
   "outputs": [],
   "source": [
    "# Save the train and test datasets\n",
    "# Uncomment to save them into distributed cluster\n",
    "#train_df.select(\"features\", \"driver_pay\")\\\n",
    "#    .coalesce(1)\\\n",
    "#    .write\\\n",
    "#    .mode(\"overwrite\")\\\n",
    "#    .format(\"json\")\\\n",
    "#    .save(\"/user/team31/project/data/train\")\n",
    "\n",
    "#test_df.select(\"features\", \"driver_pay\")\\\n",
    "#    .coalesce(1)\\\n",
    "#    .write\\\n",
    "#    .mode(\"overwrite\")\\\n",
    "#    .format(\"json\")\\\n",
    "#    .save(\"/user/team31/project/data/test\")"
   ]
  },
  {
   "cell_type": "code",
   "execution_count": 30,
   "id": "6f66e31b-a7c2-418e-abf9-9043307785f9",
   "metadata": {},
   "outputs": [
    {
     "data": {
      "text/plain": [
       "''"
      ]
     },
     "execution_count": 30,
     "metadata": {},
     "output_type": "execute_result"
    }
   ],
   "source": [
    "def run(command):\n",
    "    return os.popen(command).read()\n",
    "\n",
    "# Uncomment to save the datasets in HDFS\n",
    "#run(\"hdfs dfs -cat /user/team31/project/data/train/*.json > data/train.json\")\n",
    "#run(\"hdfs dfs -cat /user/team31/project/data/test/*.json > data/test.json\")"
   ]
  },
  {
   "cell_type": "code",
   "execution_count": 20,
   "id": "ffb0e677-5c24-4c7e-ba41-f97c07fc187b",
   "metadata": {},
   "outputs": [
    {
     "name": "stdout",
     "output_type": "stream",
     "text": [
      "+--------------------+----------+----------------------+\n",
      "|            features|driver_pay|features_standardazied|\n",
      "+--------------------+----------+----------------------+\n",
      "|(62,[0,1,2,12,13,...|     11.81|  [-0.7055592075976...|\n",
      "+--------------------+----------+----------------------+\n",
      "\n"
     ]
    }
   ],
   "source": [
    "train_df.limit(1).show()"
   ]
  },
  {
   "cell_type": "code",
   "execution_count": 27,
   "id": "dfd923c6-6148-4495-9efb-bacb33a9de7c",
   "metadata": {
    "tags": []
   },
   "outputs": [],
   "source": [
    "# Fit the logistic Regression\n",
    "lr = lr.fit(train_df)"
   ]
  },
  {
   "cell_type": "code",
   "execution_count": 28,
   "id": "da512393-4fcd-45f5-a291-48f6d439fbff",
   "metadata": {},
   "outputs": [],
   "source": [
    "# Generate test predictions\n",
    "test_df_pred = lr.transform(test_df)"
   ]
  },
  {
   "cell_type": "code",
   "execution_count": 29,
   "id": "0a0aa333-919f-448a-bde4-174b1390cd20",
   "metadata": {},
   "outputs": [
    {
     "name": "stdout",
     "output_type": "stream",
     "text": [
      "Linear Regression (not fine-tuned):\n",
      "rmse: 3.238347\n",
      "mae: 1.403847\n",
      "r2: 0.916004\n"
     ]
    }
   ],
   "source": [
    "# Evaluate the model\n",
    "print(\"Linear Regression (not fine-tuned):\")\n",
    "for name, evaluator in evaluators.items():\n",
    "    print(f\"{name}: {evaluator.evaluate(test_df_pred):.6f}\")"
   ]
  },
  {
   "cell_type": "code",
   "execution_count": 24,
   "id": "76af0515-7453-4187-9e8a-8376e481c317",
   "metadata": {},
   "outputs": [],
   "source": [
    "gbt = GBTRegressor(\n",
    "    featuresCol=\"features\",\n",
    "    labelCol=\"driver_pay\",\n",
    "    predictionCol=\"driver_pay_pred\",\n",
    "    seed=42,\n",
    ").fit(train_df)\n",
    "\n",
    "test_df_pred = gbt.transform(test_df)"
   ]
  },
  {
   "cell_type": "code",
   "execution_count": 25,
   "id": "dc88b71a-fda0-41d3-b23c-49efc7153b38",
   "metadata": {},
   "outputs": [
    {
     "name": "stdout",
     "output_type": "stream",
     "text": [
      "GBT (not fine-tuned):\n",
      "rmse: 3.988030\n",
      "mae: 1.532505\n",
      "r2: 0.872612\n"
     ]
    }
   ],
   "source": [
    "# Evaluate the model\n",
    "print(\"GBT (not fine-tuned):\")\n",
    "for name, evaluator in evaluators.items():\n",
    "    print(f\"{name}: {evaluator.evaluate(test_df_pred):.6f}\")"
   ]
  },
  {
   "cell_type": "markdown",
   "id": "cd6a196e-9ccb-4014-864f-bb559b75c24d",
   "metadata": {},
   "source": [
    "### Hyperparameter optimization & fine-tuning\n",
    "\n",
    "Our main metric for Cross-Validation is Root Mean Squared Error (RMSE)"
   ]
  },
  {
   "cell_type": "code",
   "execution_count": 31,
   "id": "4af54699-4c70-495a-bf69-cc1e64a3f6b4",
   "metadata": {},
   "outputs": [],
   "source": [
    "# Set up parameters for Linear Regression\n",
    "lr = LinearRegression(\n",
    "    featuresCol=\"features_standardazied\",\n",
    "    labelCol=\"driver_pay\",\n",
    "    predictionCol=\"driver_pay_pred\",\n",
    ")\n",
    "\n",
    "param_grid = (ParamGridBuilder()\n",
    "              .addGrid(lr.regParam, [0.001, 0.01, 0.1, 1.0])\n",
    "              .addGrid(lr.elasticNetParam, [0.0, 0.25, 0.5, 0.75, 1.0])\n",
    "              .build())\n",
    "\n",
    "evaluator = RegressionEvaluator(\n",
    "    metricName=\"rmse\",\n",
    "    labelCol=\"driver_pay\",\n",
    "    predictionCol=\"driver_pay_pred\",\n",
    ")\n",
    "\n",
    "lr_cross_validator = CrossValidator(\n",
    "    estimator=lr,\n",
    "    estimatorParamMaps=param_grid,\n",
    "    evaluator=evaluator,\n",
    "    numFolds=3\n",
    ")"
   ]
  },
  {
   "cell_type": "code",
   "execution_count": 33,
   "id": "5e6bb68b-5a94-4ff2-8a69-494bbbbe040c",
   "metadata": {},
   "outputs": [],
   "source": [
    "gbt = GBTRegressor(\n",
    "    featuresCol=\"features\",\n",
    "    labelCol=\"driver_pay\",\n",
    "    predictionCol=\"driver_pay_pred\",\n",
    "    seed=42,\n",
    ")\n",
    "\n",
    "# Set up parameters for GBTree\n",
    "gbt_param_grid = (ParamGridBuilder()\n",
    "                  .addGrid(gbt.maxDepth, [3, 4, 5])\n",
    "                  .addGrid(gbt.stepSize, [0.05, 0.1])\n",
    "                  .build())\n",
    "\n",
    "gbt_cross_validator = CrossValidator(\n",
    "    estimator=gbt,\n",
    "    estimatorParamMaps=gbt_param_grid,\n",
    "    evaluator=evaluator,\n",
    "    numFolds=3,\n",
    "    parallelism=4,\n",
    ")"
   ]
  },
  {
   "cell_type": "code",
   "execution_count": 34,
   "id": "2c255d27-5935-4583-82f9-6dfc2d7a7a96",
   "metadata": {},
   "outputs": [],
   "source": [
    "# Build the fine-tuning pipelines\n",
    "lr_pipeline = Pipeline(\n",
    "    stages=[\n",
    "        #standard_scaler,\n",
    "        lr_cross_validator,\n",
    "    ]\n",
    ")\n",
    "lr_model = lr_pipeline.fit(train_df)"
   ]
  },
  {
   "cell_type": "code",
   "execution_count": null,
   "id": "8ea3e4f4-e4f5-4867-b510-bcd567303cdd",
   "metadata": {},
   "outputs": [],
   "source": [
    "gbt_pipeline = Pipeline(\n",
    "    stages=[\n",
    "        gbt_cross_validator,\n",
    "    ]\n",
    ")\n",
    "\n",
    "gbt_model = gbt_pipeline.fit(train_df)"
   ]
  },
  {
   "cell_type": "code",
   "execution_count": null,
   "id": "5a31ebcc-6812-4de7-abd9-cb3e8e30cb44",
   "metadata": {},
   "outputs": [],
   "source": [
    "# Extract best models\n",
    "\n",
    "best_lr_model = lr_model.stages[-1].bestModel\n",
    "best_gbt_model = gbt_model.stages[-1].bestModel"
   ]
  },
  {
   "cell_type": "code",
   "execution_count": null,
   "id": "e273c162-b25a-48b7-9db5-2de93ca943cf",
   "metadata": {},
   "outputs": [],
   "source": [
    "# Simple evaluation function for the report table\n",
    "def evaluate_model(model, test_data, model_name):\n",
    "    predictions = model.transform(test_data)\n",
    "\n",
    "    rmse_evaluator = RegressionEvaluator(\n",
    "        metricName=\"rmse\",\n",
    "        labelCol=\"driver_pay\",\n",
    "        predictionCol=\"driver_pay_pred\",\n",
    "    )\n",
    "    mae_evaluator = RegressionEvaluator(\n",
    "        metricName=\"mae\",\n",
    "        labelCol=\"driver_pay\",\n",
    "        predictionCol=\"driver_pay_pred\",\n",
    "    )\n",
    "    r2_evaluator = RegressionEvaluator(\n",
    "        metricName=\"r2\",\n",
    "        labelCol=\"driver_pay\",\n",
    "        predictionCol=\"driver_pay_pred\",\n",
    "    )\n",
    "\n",
    "    metrics = {\n",
    "        \"model\": str(model),\n",
    "        \"RMSE\": rmse_evaluator.evaluate(predictions),\n",
    "        \"MAE\": mae_evaluator.evaluate(predictions),\n",
    "        \"R2\": r2_evaluator.evaluate(predictions),\n",
    "    }\n",
    "    return metrics"
   ]
  },
  {
   "cell_type": "code",
   "execution_count": null,
   "id": "9d6c0a23-532d-42f3-9c81-4abd28339f19",
   "metadata": {},
   "outputs": [],
   "source": [
    "# Evaluate metrics\n",
    "lr_metrics = evaluate_model(best_lr_model, test_df, best_lr_model)\n",
    "gbt_metrics = evaluate_model(best_gbt_model, test_df, best_gbt_model)"
   ]
  },
  {
   "cell_type": "code",
   "execution_count": null,
   "id": "6933de46-e1d9-4665-a9ac-46cf6cd14989",
   "metadata": {},
   "outputs": [],
   "source": [
    "# Create DataFrame from metrics\n",
    "results_df = pd.DataFrame([lr_metrics, gbt_metrics])\n",
    "results_df = results_df[['model', 'RMSE', 'MAE', 'R2']]\n",
    "\n",
    "results_df = results_df.round({'RMSE': 6, 'MAE': 6, 'R2': 6})\n",
    "\n",
    "results_df.head()"
   ]
  },
  {
   "cell_type": "code",
   "execution_count": null,
   "id": "b5186cda-3ba2-477f-8907-0597d195e8b5",
   "metadata": {},
   "outputs": [],
   "source": [
    "# Uncomment to save results to the distributed cluster\n",
    "#results_df.coalesce(1)\\\n",
    "#    .write\\\n",
    "#    .mode(\"overwrite\")\\\n",
    "#    .format(\"csv\")\\\n",
    "#    .option(\"sep\", \",\")\\\n",
    "#    .option(\"header\",\"true\")\\\n",
    "#    .save(\"/user/team31/project/output/evaluation.csv\")\n",
    "\n",
    "# Run it from root directory of the repository\n",
    "#run(\"hdfs dfs -cat /user/team31/project/output/evaluation.csv/*.csv > output/evaluation.csv\")"
   ]
  },
  {
   "cell_type": "markdown",
   "id": "96348e6d-68ee-4155-8134-5d3ccb0768ab",
   "metadata": {
    "tags": []
   },
   "source": [
    "### Save Both Models and Predictions"
   ]
  },
  {
   "cell_type": "code",
   "execution_count": null,
   "id": "60b587c0-4a50-4afe-962f-215c57f78989",
   "metadata": {},
   "outputs": [],
   "source": [
    "# Uncomment to save both models to the distributed cluster\n",
    "#best_lr_model.write().overwrite().save(\"/user/team31/project/models/model1\")\n",
    "#best_gbt_model.write().overwrite().save(\"/user/team31/project/models/model2\")\n",
    "\n",
    "#run(\"hdfs dfs -get /user/team31/project/models/model1 models/model1\")\n",
    "#run(\"hdfs dfs -get /user/team31/project/models/model1 models/model2\")"
   ]
  },
  {
   "cell_type": "code",
   "execution_count": null,
   "id": "281b1427-2581-4025-a9d5-c065b952d88c",
   "metadata": {
    "tags": []
   },
   "outputs": [],
   "source": [
    "# Obtain predictions\n",
    "preds_lr = best_lr_model.transform(test_df).select(\"driver_pay_pred\")\n",
    "preds_gbt = best_gbt_model.transform(test_df).select(\"driver_pay_pred\")"
   ]
  },
  {
   "cell_type": "code",
   "execution_count": null,
   "id": "63fc4897-28ad-4b8d-a1b2-1681bcb55d24",
   "metadata": {},
   "outputs": [],
   "source": [
    "# Uncomment to save predictions to the distributed cluster\n",
    "#preds_lr.select(\"label\", \"driver_pay_pred\")\\\n",
    "#    .coalesce(1)\\\n",
    "#    .write\\\n",
    "#    .mode(\"overwrite\")\\\n",
    "#    .format(\"csv\")\\\n",
    "#    .option(\"sep\", \",\")\\\n",
    "#    .option(\"header\",\"true\")\\\n",
    "#    .save(\"project/output/model1_predictions.csv\")\n",
    "\n",
    "# Run it from root directory of the repository\n",
    "#run(\"hdfs dfs -cat project/output/model1_predictions.csv/*.csv > output/model1_predictions.csv\")\n",
    "\n",
    "# preds_gbt.select(\"label\", \"driver_pay_pred\")\\\n",
    "#    .coalesce(1)\\\n",
    "#    .write\\\n",
    "#    .mode(\"overwrite\")\\\n",
    "#    .format(\"csv\")\\\n",
    "#    .option(\"sep\", \",\")\\\n",
    "#    .option(\"header\",\"true\")\\\n",
    "#    .save(\"project/output/model2_predictions.csv\")\n",
    "\n",
    "# Run it from root directory of the repository\n",
    "#run(\"hdfs dfs -cat project/output/model1_predictions.csv/*.csv > output/model2_predictions.csv\")"
   ]
  },
  {
   "cell_type": "markdown",
   "id": "04c751ad-9b9f-4beb-9b1a-8660769511f8",
   "metadata": {
    "tags": []
   },
   "source": [
    "### Feature importance analysis"
   ]
  },
  {
   "cell_type": "code",
   "execution_count": null,
   "id": "21347d5e-024d-4e4b-a4e8-10ba399a261a",
   "metadata": {},
   "outputs": [],
   "source": [
    "# Uncomment to load both models from the distributed cluster\n",
    "#best_lr_model = LinearRegressionModel.load(\"/user/team31/project/models/model1\")\n",
    "#best_gbt_model = GBTRegressionModel.load(\"/user/team31/project/models/model2\")"
   ]
  },
  {
   "cell_type": "code",
   "execution_count": null,
   "id": "1ab25ee8-4686-4b35-80c4-f399b8abb083",
   "metadata": {},
   "outputs": [],
   "source": [
    "# Uncomment to load files from the distributed cluster\n",
    "#train_hdfs_path = \"/user/team31/project/data/train\"\n",
    "#test_hdfs_path = \"/user/team31/project/data/test\"\n",
    "\n",
    "#train_df = spark.read.parquet(train_hdfs_path)\n",
    "#test_df = spark.read.parquet(test_hdfs_path)"
   ]
  },
  {
   "cell_type": "code",
   "execution_count": 4,
   "id": "88e02cf5-4fad-4817-9ac0-6fc847b04f99",
   "metadata": {},
   "outputs": [
    {
     "name": "stdout",
     "output_type": "stream",
     "text": [
      "Scaled dataframes.\n"
     ]
    }
   ],
   "source": [
    "# Standard scaler for features\n",
    "standard_scaler = StandardScaler(\n",
    "    inputCol=\"features\",\n",
    "    outputCol=\"features_standardazied\",\n",
    "    withStd=True,\n",
    "    withMean=True\n",
    ").fit(train_df)\n",
    "\n",
    "# Scale our datasets\n",
    "train_df = standard_scaler.transform(train_df)\n",
    "test_df = standard_scaler.transform(test_df)\n",
    "\n",
    "print(\"Scaled dataframes.\")"
   ]
  },
  {
   "cell_type": "code",
   "execution_count": 60,
   "id": "001123fb-3c00-4179-b046-521a915d0062",
   "metadata": {},
   "outputs": [],
   "source": [
    "# Define feature name\n",
    "features = [\n",
    "    'trip_miles',\n",
    "    'trip_time',\n",
    "    'base_passenger_fare',\n",
    "    'tolls',\n",
    "    'bcf',\n",
    "    'sales_tax',\n",
    "    'congestion_surcharge',\n",
    "    'tips',\n",
    "    'shared_request_flag',\n",
    "    'shared_match_flag',\n",
    "    'wav_request_flag',\n",
    "    'wav_match_flag',\n",
    "    'temperature',\n",
    "    'feels_like',\n",
    "    'dew_point',\n",
    "    'humidity',\n",
    "    'precipitation',\n",
    "    'precipitation_prob',\n",
    "    'snow',\n",
    "    'snow_depth',\n",
    "    'wind_speed',\n",
    "    'wind_direction',\n",
    "    'sea_level_pressure',\n",
    "    'cloud_cover',\n",
    "    'visibility',\n",
    "    'uv_index',\n",
    "    'borough_encoded_pu',\n",
    "    'borough_encoded_pu_Manhattan',\n",
    "    'borough_encoded_pu_Queens',\n",
    "    'borough_encoded_pu_Brooklyn',\n",
    "    'borough_encoded_pu_Bronx',\n",
    "    'borough_encoded_pu_Staten Island',\n",
    "    'borough_encoded_pu_Unknown',\n",
    "    'borough_encoded_pu_EWR',\n",
    "    'service_zone_encoded_pu',\n",
    "    'service_zone_encoded_pu_Boro Zone',\n",
    "    'service_zone_encoded_pu_Yellow Zone',\n",
    "    'service_zone_encoded_pu_Airports',\n",
    "    'service_zone_encoded_pu_N/A',\n",
    "    'service_zone_encoded_pu_EWR',\n",
    "    'borough_encoded_do',\n",
    "    'borough_encoded_do_Manhattan',\n",
    "    'borough_encoded_do_Queens',\n",
    "    'borough_encoded_do_Brooklyn',\n",
    "    'borough_encoded_do_Bronx',\n",
    "    'borough_encoded_do_Staten Island',\n",
    "    'borough_encoded_do_Unknown',\n",
    "    'borough_encoded_do_EWR',\n",
    "    'service_zone_encoded_do',\n",
    "    'service_zone_encoded_do_Boro Zone',\n",
    "    'service_zone_encoded_do_Yellow Zone',\n",
    "    'service_zone_encoded_do_Airports',\n",
    "    'service_zone_encoded_do_N/A',\n",
    "    'service_zone_encoded_do_EWR',\n",
    "    'day_sine',\n",
    "    'day_cosine',\n",
    "    'month_sine',\n",
    "    'month_cosine',\n",
    "    'hvfhs_license_num_encoded',\n",
    "    'hvfhs_license_num_encoded_HV0003',\n",
    "    'hvfhs_license_num_encoded_HV0005',\n",
    "    'hvfhs_license_num_encoded_HV0004',\n",
    "]"
   ]
  },
  {
   "cell_type": "code",
   "execution_count": 61,
   "id": "feaacdb8-5b35-47b2-a1d2-524ef0c26905",
   "metadata": {},
   "outputs": [
    {
     "data": {
      "text/plain": [
       "62"
      ]
     },
     "execution_count": 61,
     "metadata": {},
     "output_type": "execute_result"
    }
   ],
   "source": [
    "len(features)"
   ]
  },
  {
   "cell_type": "code",
   "execution_count": 85,
   "id": "69f7cdd3-2154-4f2a-80a0-aa04b994e09e",
   "metadata": {},
   "outputs": [
    {
     "name": "stdout",
     "output_type": "stream",
     "text": [
      "Linear Regression Feature Importance:\n",
      "                                Feature  Coefficient  Absolute_Coefficient\n",
      "0                            trip_miles     4.198037              4.198037\n",
      "1                             trip_time     3.231436              3.231436\n",
      "2                   base_passenger_fare     2.957737              2.957737\n",
      "4                                   bcf     1.530125              1.530125\n",
      "11                       wav_match_flag     0.584021              0.584021\n",
      "5                             sales_tax    -0.356621              0.356621\n",
      "3                                 tolls    -0.322064              0.322064\n",
      "60     hvfhs_license_num_encoded_HV0005    -0.316035              0.316035\n",
      "6                  congestion_surcharge    -0.225065              0.225065\n",
      "36  service_zone_encoded_pu_Yellow Zone     0.222520              0.222520\n",
      "58            hvfhs_license_num_encoded     0.180570              0.180570\n",
      "59     hvfhs_license_num_encoded_HV0003    -0.113153              0.113153\n",
      "34              service_zone_encoded_pu    -0.096679              0.096679\n",
      "56                           month_sine    -0.076396              0.076396\n",
      "12                          temperature    -0.072076              0.072076\n",
      "10                     wav_request_flag     0.070528              0.070528\n",
      "27         borough_encoded_pu_Manhattan    -0.066039              0.066039\n",
      "45     borough_encoded_do_Staten Island     0.065441              0.065441\n",
      "51     service_zone_encoded_do_Airports     0.065441              0.065441\n",
      "48              service_zone_encoded_do    -0.064648              0.064648\n",
      "14                            dew_point     0.052244              0.052244\n",
      "7                                  tips    -0.052146              0.052146\n",
      "9                     shared_match_flag    -0.050467              0.050467\n",
      "29          borough_encoded_pu_Brooklyn     0.050017              0.050017\n",
      "49    service_zone_encoded_do_Boro Zone     0.049971              0.049971\n",
      "30             borough_encoded_pu_Bronx     0.037062              0.037062\n",
      "28            borough_encoded_pu_Queens     0.035206              0.035206\n",
      "50  service_zone_encoded_do_Yellow Zone    -0.034537              0.034537\n",
      "13                           feels_like     0.033535              0.033535\n",
      "26                   borough_encoded_pu    -0.029626              0.029626\n",
      "..                                  ...          ...                   ...\n",
      "57                         month_cosine    -0.022886              0.022886\n",
      "35    service_zone_encoded_pu_Boro Zone     0.021543              0.021543\n",
      "41         borough_encoded_do_Manhattan    -0.020336              0.020336\n",
      "46           borough_encoded_do_Unknown     0.019740              0.019740\n",
      "52          service_zone_encoded_do_N/A     0.019740              0.019740\n",
      "42            borough_encoded_do_Queens    -0.014603              0.014603\n",
      "38          service_zone_encoded_pu_N/A    -0.013180              0.013180\n",
      "32           borough_encoded_pu_Unknown    -0.013180              0.013180\n",
      "25                             uv_index    -0.005330              0.005330\n",
      "16                        precipitation    -0.005206              0.005206\n",
      "17                   precipitation_prob     0.004993              0.004993\n",
      "40                   borough_encoded_do     0.003959              0.003959\n",
      "44             borough_encoded_do_Bronx    -0.003604              0.003604\n",
      "23                          cloud_cover     0.003270              0.003270\n",
      "21                       wind_direction     0.002799              0.002799\n",
      "22                   sea_level_pressure     0.002638              0.002638\n",
      "43          borough_encoded_do_Brooklyn     0.001883              0.001883\n",
      "31     borough_encoded_pu_Staten Island    -0.001600              0.001600\n",
      "37     service_zone_encoded_pu_Airports    -0.001600              0.001600\n",
      "19                           snow_depth    -0.001583              0.001583\n",
      "55                           day_cosine     0.000879              0.000879\n",
      "18                                 snow    -0.000473              0.000473\n",
      "24                           visibility    -0.000419              0.000419\n",
      "54                             day_sine    -0.000197              0.000197\n",
      "20                           wind_speed    -0.000045              0.000045\n",
      "47               borough_encoded_do_EWR     0.000000              0.000000\n",
      "39          service_zone_encoded_pu_EWR     0.000000              0.000000\n",
      "53          service_zone_encoded_do_EWR     0.000000              0.000000\n",
      "33               borough_encoded_pu_EWR     0.000000              0.000000\n",
      "61     hvfhs_license_num_encoded_HV0004     0.000000              0.000000\n",
      "\n",
      "[62 rows x 3 columns]\n"
     ]
    }
   ],
   "source": [
    "# Obtain feature importance from LR\n",
    "coefficients = best_lr_model.coefficients.toArray()\n",
    "\n",
    "lr_importance_df = pd.DataFrame({\n",
    "    'Feature': features,\n",
    "    'Coefficient': coefficients,\n",
    "    'Absolute_Coefficient': abs(coefficients)\n",
    "}).sort_values('Absolute_Coefficient', ascending=False)\n",
    "\n",
    "print(\"Linear Regression Feature Importance:\")\n",
    "print(lr_importance_df)"
   ]
  },
  {
   "cell_type": "code",
   "execution_count": 69,
   "id": "ac11863a-5252-4ca4-af35-40802c0ee679",
   "metadata": {},
   "outputs": [
    {
     "name": "stdout",
     "output_type": "stream",
     "text": [
      "62\n"
     ]
    },
    {
     "data": {
      "text/plain": [
       "array([6.68676609e-02, 1.82130188e-01, 6.11609170e-01, 7.63354961e-03,\n",
       "       1.22480043e-02, 1.17025232e-02, 1.28731583e-03, 0.00000000e+00,\n",
       "       9.37295328e-04, 0.00000000e+00, 1.80438593e-03, 2.80162688e-02,\n",
       "       1.09301147e-06, 0.00000000e+00, 1.83153211e-04, 0.00000000e+00,\n",
       "       0.00000000e+00, 0.00000000e+00, 2.19923486e-04, 0.00000000e+00,\n",
       "       8.37076247e-04, 0.00000000e+00, 6.09530705e-04, 1.80400803e-04,\n",
       "       0.00000000e+00, 0.00000000e+00, 1.75256178e-04, 4.79130484e-03,\n",
       "       2.23694729e-03, 1.87246118e-04, 2.66111816e-04, 0.00000000e+00,\n",
       "       0.00000000e+00, 0.00000000e+00, 7.67470056e-04, 0.00000000e+00,\n",
       "       1.09264084e-02, 0.00000000e+00, 0.00000000e+00, 0.00000000e+00,\n",
       "       5.83633915e-05, 1.98053573e-04, 3.58007364e-05, 1.22021029e-04,\n",
       "       3.45092362e-05, 2.15970230e-02, 2.72751998e-04, 0.00000000e+00,\n",
       "       0.00000000e+00, 9.74198941e-05, 0.00000000e+00, 0.00000000e+00,\n",
       "       0.00000000e+00, 0.00000000e+00, 1.19178723e-03, 2.72234840e-04,\n",
       "       2.79071835e-04, 7.16429885e-04, 1.23553013e-02, 2.12996411e-03,\n",
       "       1.50209844e-02, 0.00000000e+00])"
      ]
     },
     "execution_count": 69,
     "metadata": {},
     "output_type": "execute_result"
    }
   ],
   "source": [
    "# Obtain feature importance from GBT\n",
    "gbt_importance = best_gbt_model.featureImportances\n",
    "\n",
    "dense_importance = np.zeros(gbt_importance.size)\n",
    "for i in range(len(gbt_importance.indices)):\n",
    "    idx = gbt_importance.indices[i]\n",
    "    val = gbt_importance.values[i]\n",
    "    dense_importance[idx] = val\n",
    "\n",
    "dense_importance = gbt_importance.toArray()\n",
    "print(dense_importance.shape[0])\n",
    "dense_importance"
   ]
  },
  {
   "cell_type": "code",
   "execution_count": 70,
   "id": "d34b084f-6ab5-49c8-aabe-a3a05d561eb8",
   "metadata": {},
   "outputs": [
    {
     "name": "stdout",
     "output_type": "stream",
     "text": [
      "GBT Feature Importance:\n",
      "                                Feature  Importance\n",
      "2                   base_passenger_fare    0.611609\n",
      "1                             trip_time    0.182130\n",
      "0                            trip_miles    0.066868\n",
      "11                       wav_match_flag    0.028016\n",
      "45     borough_encoded_do_Staten Island    0.021597\n",
      "60     hvfhs_license_num_encoded_HV0005    0.015021\n",
      "58            hvfhs_license_num_encoded    0.012355\n",
      "4                                   bcf    0.012248\n",
      "5                             sales_tax    0.011703\n",
      "36  service_zone_encoded_pu_Yellow Zone    0.010926\n",
      "3                                 tolls    0.007634\n",
      "27         borough_encoded_pu_Manhattan    0.004791\n",
      "28            borough_encoded_pu_Queens    0.002237\n",
      "59     hvfhs_license_num_encoded_HV0003    0.002130\n",
      "10                     wav_request_flag    0.001804\n",
      "6                  congestion_surcharge    0.001287\n",
      "54                             day_sine    0.001192\n",
      "8                   shared_request_flag    0.000937\n",
      "20                           wind_speed    0.000837\n",
      "34              service_zone_encoded_pu    0.000767\n",
      "57                         month_cosine    0.000716\n",
      "22                   sea_level_pressure    0.000610\n",
      "56                           month_sine    0.000279\n",
      "46           borough_encoded_do_Unknown    0.000273\n",
      "55                           day_cosine    0.000272\n",
      "30             borough_encoded_pu_Bronx    0.000266\n",
      "18                                 snow    0.000220\n",
      "41         borough_encoded_do_Manhattan    0.000198\n",
      "29          borough_encoded_pu_Brooklyn    0.000187\n",
      "14                            dew_point    0.000183\n",
      "..                                  ...         ...\n",
      "43          borough_encoded_do_Brooklyn    0.000122\n",
      "49    service_zone_encoded_do_Boro Zone    0.000097\n",
      "40                   borough_encoded_do    0.000058\n",
      "42            borough_encoded_do_Queens    0.000036\n",
      "44             borough_encoded_do_Bronx    0.000035\n",
      "12                          temperature    0.000001\n",
      "50  service_zone_encoded_do_Yellow Zone    0.000000\n",
      "48              service_zone_encoded_do    0.000000\n",
      "53          service_zone_encoded_do_EWR    0.000000\n",
      "47               borough_encoded_do_EWR    0.000000\n",
      "51     service_zone_encoded_do_Airports    0.000000\n",
      "52          service_zone_encoded_do_N/A    0.000000\n",
      "31     borough_encoded_pu_Staten Island    0.000000\n",
      "39          service_zone_encoded_pu_EWR    0.000000\n",
      "19                           snow_depth    0.000000\n",
      "7                                  tips    0.000000\n",
      "9                     shared_match_flag    0.000000\n",
      "13                           feels_like    0.000000\n",
      "15                             humidity    0.000000\n",
      "16                        precipitation    0.000000\n",
      "17                   precipitation_prob    0.000000\n",
      "21                       wind_direction    0.000000\n",
      "38          service_zone_encoded_pu_N/A    0.000000\n",
      "24                           visibility    0.000000\n",
      "25                             uv_index    0.000000\n",
      "32           borough_encoded_pu_Unknown    0.000000\n",
      "33               borough_encoded_pu_EWR    0.000000\n",
      "35    service_zone_encoded_pu_Boro Zone    0.000000\n",
      "37     service_zone_encoded_pu_Airports    0.000000\n",
      "61     hvfhs_license_num_encoded_HV0004    0.000000\n",
      "\n",
      "[62 rows x 2 columns]\n"
     ]
    }
   ],
   "source": [
    "gbt_importance_df = pd.DataFrame({\n",
    "    'Feature': features,\n",
    "    'Importance': dense_importance,\n",
    "}).sort_values('Importance', ascending=False)\n",
    "\n",
    "print(\"GBT Feature Importance:\")\n",
    "print(gbt_importance_df)"
   ]
  },
  {
   "cell_type": "code",
   "execution_count": 77,
   "id": "f04e9b6b-c27d-4de6-b10c-9450caa81573",
   "metadata": {},
   "outputs": [
    {
     "data": {
      "image/png": "[encoded data removed]",
      "text/plain": [
       "<Figure size 864x432 with 1 Axes>"
      ]
     },
     "metadata": {},
     "output_type": "display_data"
    }
   ],
   "source": [
    "# Plot feature importance from GBT\n",
    "plt.figure(figsize=(12, 6))\n",
    "sns.set_style(\"whitegrid\")\n",
    "\n",
    "top_10 = gbt_importance_df.head(10)\n",
    "\n",
    "ax = sns.barplot(\n",
    "    x=\"Importance\",\n",
    "    y=\"Feature\",\n",
    "    data=top_10,\n",
    "    palette=\"viridis\",\n",
    "    orient=\"h\",\n",
    ")\n",
    "\n",
    "plt.title(\"Top 10 Most Important Features (GBT Model)\", fontsize=14, pad=20)\n",
    "plt.xlabel(\"Feature Importance Score\", fontsize=12)\n",
    "plt.ylabel(\"Feature Name\", fontsize=12)\n",
    "\n",
    "for i, (score, name) in enumerate(zip(top_10[\"Importance\"], top_10[\"Feature\"])):\n",
    "    ax.text(score + 0.005, i, f\"{score:.4f}\", va=\"center\")\n",
    "\n",
    "plt.tight_layout()\n",
    "plt.show()"
   ]
  },
  {
   "cell_type": "code",
   "execution_count": 84,
   "id": "c8e130ef-edf5-4a53-a7cd-5df1a1cd9fd9",
   "metadata": {},
   "outputs": [
    {
     "data": {
      "image/png": "[encoded data removed]",
      "text/plain": [
       "<Figure size 864x432 with 1 Axes>"
      ]
     },
     "metadata": {},
     "output_type": "display_data"
    }
   ],
   "source": [
    "# Ploat feature importance from LR\n",
    "plt.figure(figsize=(12, 6))\n",
    "sns.set_style(\"whitegrid\")\n",
    "\n",
    "top_10 = lr_importance_df.head(10)\n",
    "\n",
    "ax = sns.barplot(\n",
    "    x=\"Absolute_Coefficient\",\n",
    "    y=\"Feature\",\n",
    "    data=top_10,\n",
    "    palette=\"viridis\",\n",
    "    orient=\"h\",\n",
    ")\n",
    "\n",
    "plt.title(\"Top 10 Most Important Features (LR Model)\", fontsize=14, pad=20)\n",
    "plt.xlabel(\"Feature Importance Score\", fontsize=12)\n",
    "plt.ylabel(\"Feature Name\", fontsize=12)\n",
    "\n",
    "for i, (score, name) in enumerate(zip(top_10[\"Absolute_Coefficient\"], top_10[\"Feature\"])):\n",
    "    ax.text(score + 0.005, i, f\"{score:.4f}\", va=\"center\")\n",
    "\n",
    "plt.tight_layout()\n",
    "plt.show()"
   ]
  },
  {
   "cell_type": "markdown",
   "id": "c275b7f3-d2db-4255-ad92-66c8feeca2c0",
   "metadata": {},
   "source": [
    "### Save the Modeling Part Results To the Database"
   ]
  },
  {
   "cell_type": "code",
   "execution_count": 8,
   "id": "ae44c16d-3c0e-4699-a4e8-64f1b4249fa7",
   "metadata": {},
   "outputs": [],
   "source": [
    "# Obtain predictions\n",
    "lr_predictions = spark.read.csv(\n",
    "    \"/user/team31/project/output/model1_predictions.csv\",\n",
    "    header=True,\n",
    ")\n",
    "gbt_predictions = spark.read.csv(\n",
    "    \"/user/team31/project/output/model2_predictions.csv\",\n",
    "    header=True,\n",
    ")"
   ]
  },
  {
   "cell_type": "code",
   "execution_count": 9,
   "id": "ab550ca7-278e-4674-bf0f-99d4cd13cde0",
   "metadata": {},
   "outputs": [
    {
     "name": "stdout",
     "output_type": "stream",
     "text": [
      "+----------+------------------+\n",
      "|driver_pay|   driver_pay_pred|\n",
      "+----------+------------------+\n",
      "|     14.87| 10.63545254439763|\n",
      "|      8.38| 6.835470936540134|\n",
      "|     10.76| 5.929368363012777|\n",
      "|       6.8| 5.558537527621949|\n",
      "|      9.43| 6.369741552312821|\n",
      "|      7.04| 4.992166254385271|\n",
      "|     10.25| 6.990194691490794|\n",
      "|      9.67| 9.328616810256282|\n",
      "|     12.56|12.279164056192938|\n",
      "|      8.92| 4.965133393545862|\n",
      "+----------+------------------+\n",
      "\n"
     ]
    }
   ],
   "source": [
    "lr_predictions.limit(10).show()"
   ]
  },
  {
   "cell_type": "code",
   "execution_count": 10,
   "id": "4a83f209-56f6-4e27-858f-75cf60acc796",
   "metadata": {},
   "outputs": [
    {
     "name": "stdout",
     "output_type": "stream",
     "text": [
      "+----------+------------------+\n",
      "|driver_pay|   driver_pay_pred|\n",
      "+----------+------------------+\n",
      "|     14.87| 9.571266509337274|\n",
      "|      8.38| 6.330546419193481|\n",
      "|     10.76| 6.286566858780703|\n",
      "|       6.8| 5.954828805200265|\n",
      "|      9.43| 6.202032851185389|\n",
      "|      7.04| 6.042593416415323|\n",
      "|     10.25| 6.158053290772612|\n",
      "|      9.67| 9.323325917942858|\n",
      "|     12.56|12.477610618911555|\n",
      "|      8.92| 6.042593416415323|\n",
      "+----------+------------------+\n",
      "\n"
     ]
    }
   ],
   "source": [
    "gbt_predictions.limit(10).show()"
   ]
  },
  {
   "cell_type": "code",
   "execution_count": 11,
   "id": "9f698610-8b52-42ca-b55f-9e8da3b70431",
   "metadata": {},
   "outputs": [
    {
     "name": "stdout",
     "output_type": "stream",
     "text": [
      "+----------+-----------------+\n",
      "|driver_pay|  driver_pay_pred|\n",
      "+----------+-----------------+\n",
      "|     99.97|86.59837206538789|\n",
      "|     99.88|78.18337216240896|\n",
      "|     99.85|80.77001453515052|\n",
      "|     99.83|73.82804433721866|\n",
      "|     99.81|72.52776184127765|\n",
      "|     99.81|  75.927991582144|\n",
      "|     99.74|85.32405743507513|\n",
      "|     99.68|76.10970448637583|\n",
      "|     99.65|74.00417665884731|\n",
      "|     99.64| 85.3417005245112|\n",
      "+----------+-----------------+\n",
      "\n"
     ]
    }
   ],
   "source": [
    "gbt_predictions.orderBy(\"driver_pay\", ascending=False).limit(10).show()"
   ]
  },
  {
   "cell_type": "code",
   "execution_count": 12,
   "id": "0a7be7de-b75c-4024-8d7f-b02ca11e6ff2",
   "metadata": {},
   "outputs": [
    {
     "name": "stdout",
     "output_type": "stream",
     "text": [
      "+----------+------------------+\n",
      "|driver_pay|   driver_pay_pred|\n",
      "+----------+------------------+\n",
      "|     99.97| 103.6038137093002|\n",
      "|     99.88|107.01347393068971|\n",
      "|     99.85|101.31292861144496|\n",
      "|     99.83|100.02426775127987|\n",
      "|     99.81| 98.96414828360301|\n",
      "|     99.81| 93.11961960920479|\n",
      "|     99.74|106.37202815314477|\n",
      "|     99.68| 96.74134600056081|\n",
      "|     99.65|105.83604354722672|\n",
      "|     99.64| 86.98687023684747|\n",
      "+----------+------------------+\n",
      "\n"
     ]
    }
   ],
   "source": [
    "lr_predictions.orderBy(\"driver_pay\", ascending=False).limit(10).show()"
   ]
  },
  {
   "cell_type": "code",
   "execution_count": 98,
   "id": "3108bda3-4ddb-41d9-ad70-c5168392c9fa",
   "metadata": {},
   "outputs": [],
   "source": [
    "# Save both tables in Hive\n",
    "lr_predictions.write.mode(\"overwrite\").saveAsTable(\"team31_projectdb.model1_predictions\")\n",
    "gbt_predictions.write.mode(\"overwrite\").saveAsTable(\"team31_projectdb.model2_predictions\")"
   ]
  },
  {
   "cell_type": "code",
   "execution_count": 103,
   "id": "0fc446bf-e0a6-40e2-88be-e9d385d69753",
   "metadata": {},
   "outputs": [],
   "source": [
    "# Save feature importances\n",
    "spark.createDataFrame(lr_importance_df).write.mode(\"overwrite\").saveAsTable(\"team31_projectdb.model1_feature_importance\")\n",
    "spark.createDataFrame(gbt_importance_df).write.mode(\"overwrite\").saveAsTable(\"team31_projectdb.model2_feature_importance\")"
   ]
  },
  {
   "cell_type": "code",
   "execution_count": 104,
   "id": "91382c52-bb8e-4162-bfc8-56399b2814ca",
   "metadata": {},
   "outputs": [
    {
     "name": "stdout",
     "output_type": "stream",
     "text": [
      "+----------------+--------------------+-----------+\n",
      "|       namespace|           tableName|isTemporary|\n",
      "+----------------+--------------------+-----------+\n",
      "|team31_projectdb|model1_feature_im...|      false|\n",
      "|team31_projectdb|  model1_predictions|      false|\n",
      "|team31_projectdb|model2_feature_im...|      false|\n",
      "|team31_projectdb|  model2_predictions|      false|\n",
      "|team31_projectdb|          q1_results|      false|\n",
      "|team31_projectdb|          q2_results|      false|\n",
      "|team31_projectdb|          q3_results|      false|\n",
      "|team31_projectdb|          q4_results|      false|\n",
      "|team31_projectdb|          q5_results|      false|\n",
      "|team31_projectdb|          q6_results|      false|\n",
      "|team31_projectdb|          q7_results|      false|\n",
      "|team31_projectdb|          q8_results|      false|\n",
      "|team31_projectdb|          taxi_zones|      false|\n",
      "|team31_projectdb|               trips|      false|\n",
      "|team31_projectdb|          trips_part|      false|\n",
      "|team31_projectdb|             weather|      false|\n",
      "+----------------+--------------------+-----------+\n",
      "\n"
     ]
    }
   ],
   "source": [
    "# Ensure that tables are available\n",
    "spark.sql(\"SHOW TABLES\").show()"
   ]
  }
 ],
 "metadata": {
  "kernelspec": {
   "display_name": "Pyspark 3.6",
   "language": "python",
   "name": "python3.6"
  },
  "language_info": {
   "codemirror_mode": {
    "name": "ipython",
    "version": 3
   },
   "file_extension": ".py",
   "mimetype": "text/x-python",
   "name": "python",
   "nbconvert_exporter": "python",
   "pygments_lexer": "ipython3",
   "version": "3.6.8"
  }
 },
 "nbformat": 4,
 "nbformat_minor": 5
}
